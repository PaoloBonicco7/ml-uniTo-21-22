{
 "cells": [
  {
   "cell_type": "code",
   "execution_count": 10,
   "metadata": {},
   "outputs": [],
   "source": [
    "from sklearn.datasets import load_breast_cancer\n",
    "import numpy as np\n",
    "from sklearn.linear_model import LogisticRegression\n",
    "from sklearn.model_selection import train_test_split\n",
    "import matplotlib.pyplot as plt"
   ]
  },
  {
   "cell_type": "markdown",
   "metadata": {},
   "source": [
    "# Loading datasets"
   ]
  },
  {
   "cell_type": "code",
   "execution_count": 11,
   "metadata": {},
   "outputs": [],
   "source": [
    "X,y = load_breast_cancer(return_X_y=True)"
   ]
  },
  {
   "cell_type": "code",
   "execution_count": 12,
   "metadata": {},
   "outputs": [
    {
     "name": "stdout",
     "output_type": "stream",
     "text": [
      "121 67\n"
     ]
    }
   ],
   "source": [
    "X_train, X_test, y_train, y_test = train_test_split(X, y, test_size=0.33, random_state=42)\n",
    "Pos = sum(y_test == 1)\n",
    "Neg = sum(y_test == 0)\n",
    "\n",
    "print(Pos, Neg)"
   ]
  },
  {
   "cell_type": "markdown",
   "metadata": {},
   "source": [
    "# Fitting the data"
   ]
  },
  {
   "cell_type": "code",
   "execution_count": 13,
   "metadata": {},
   "outputs": [],
   "source": [
    "lr = LogisticRegression()"
   ]
  },
  {
   "cell_type": "code",
   "execution_count": 14,
   "metadata": {},
   "outputs": [
    {
     "name": "stderr",
     "output_type": "stream",
     "text": [
      "/Users/paolobonicco/Projects/ml-uniTo-21-22/venvml/lib/python3.9/site-packages/sklearn/linear_model/_logistic.py:444: ConvergenceWarning: lbfgs failed to converge (status=1):\n",
      "STOP: TOTAL NO. of ITERATIONS REACHED LIMIT.\n",
      "\n",
      "Increase the number of iterations (max_iter) or scale the data as shown in:\n",
      "    https://scikit-learn.org/stable/modules/preprocessing.html\n",
      "Please also refer to the documentation for alternative solver options:\n",
      "    https://scikit-learn.org/stable/modules/linear_model.html#logistic-regression\n",
      "  n_iter_i = _check_optimize_result(\n"
     ]
    },
    {
     "data": {
      "text/html": [
       "<style>#sk-container-id-2 {color: black;background-color: white;}#sk-container-id-2 pre{padding: 0;}#sk-container-id-2 div.sk-toggleable {background-color: white;}#sk-container-id-2 label.sk-toggleable__label {cursor: pointer;display: block;width: 100%;margin-bottom: 0;padding: 0.3em;box-sizing: border-box;text-align: center;}#sk-container-id-2 label.sk-toggleable__label-arrow:before {content: \"▸\";float: left;margin-right: 0.25em;color: #696969;}#sk-container-id-2 label.sk-toggleable__label-arrow:hover:before {color: black;}#sk-container-id-2 div.sk-estimator:hover label.sk-toggleable__label-arrow:before {color: black;}#sk-container-id-2 div.sk-toggleable__content {max-height: 0;max-width: 0;overflow: hidden;text-align: left;background-color: #f0f8ff;}#sk-container-id-2 div.sk-toggleable__content pre {margin: 0.2em;color: black;border-radius: 0.25em;background-color: #f0f8ff;}#sk-container-id-2 input.sk-toggleable__control:checked~div.sk-toggleable__content {max-height: 200px;max-width: 100%;overflow: auto;}#sk-container-id-2 input.sk-toggleable__control:checked~label.sk-toggleable__label-arrow:before {content: \"▾\";}#sk-container-id-2 div.sk-estimator input.sk-toggleable__control:checked~label.sk-toggleable__label {background-color: #d4ebff;}#sk-container-id-2 div.sk-label input.sk-toggleable__control:checked~label.sk-toggleable__label {background-color: #d4ebff;}#sk-container-id-2 input.sk-hidden--visually {border: 0;clip: rect(1px 1px 1px 1px);clip: rect(1px, 1px, 1px, 1px);height: 1px;margin: -1px;overflow: hidden;padding: 0;position: absolute;width: 1px;}#sk-container-id-2 div.sk-estimator {font-family: monospace;background-color: #f0f8ff;border: 1px dotted black;border-radius: 0.25em;box-sizing: border-box;margin-bottom: 0.5em;}#sk-container-id-2 div.sk-estimator:hover {background-color: #d4ebff;}#sk-container-id-2 div.sk-parallel-item::after {content: \"\";width: 100%;border-bottom: 1px solid gray;flex-grow: 1;}#sk-container-id-2 div.sk-label:hover label.sk-toggleable__label {background-color: #d4ebff;}#sk-container-id-2 div.sk-serial::before {content: \"\";position: absolute;border-left: 1px solid gray;box-sizing: border-box;top: 0;bottom: 0;left: 50%;z-index: 0;}#sk-container-id-2 div.sk-serial {display: flex;flex-direction: column;align-items: center;background-color: white;padding-right: 0.2em;padding-left: 0.2em;position: relative;}#sk-container-id-2 div.sk-item {position: relative;z-index: 1;}#sk-container-id-2 div.sk-parallel {display: flex;align-items: stretch;justify-content: center;background-color: white;position: relative;}#sk-container-id-2 div.sk-item::before, #sk-container-id-2 div.sk-parallel-item::before {content: \"\";position: absolute;border-left: 1px solid gray;box-sizing: border-box;top: 0;bottom: 0;left: 50%;z-index: -1;}#sk-container-id-2 div.sk-parallel-item {display: flex;flex-direction: column;z-index: 1;position: relative;background-color: white;}#sk-container-id-2 div.sk-parallel-item:first-child::after {align-self: flex-end;width: 50%;}#sk-container-id-2 div.sk-parallel-item:last-child::after {align-self: flex-start;width: 50%;}#sk-container-id-2 div.sk-parallel-item:only-child::after {width: 0;}#sk-container-id-2 div.sk-dashed-wrapped {border: 1px dashed gray;margin: 0 0.4em 0.5em 0.4em;box-sizing: border-box;padding-bottom: 0.4em;background-color: white;}#sk-container-id-2 div.sk-label label {font-family: monospace;font-weight: bold;display: inline-block;line-height: 1.2em;}#sk-container-id-2 div.sk-label-container {text-align: center;}#sk-container-id-2 div.sk-container {/* jupyter's `normalize.less` sets `[hidden] { display: none; }` but bootstrap.min.css set `[hidden] { display: none !important; }` so we also need the `!important` here to be able to override the default hidden behavior on the sphinx rendered scikit-learn.org. See: https://github.com/scikit-learn/scikit-learn/issues/21755 */display: inline-block !important;position: relative;}#sk-container-id-2 div.sk-text-repr-fallback {display: none;}</style><div id=\"sk-container-id-2\" class=\"sk-top-container\"><div class=\"sk-text-repr-fallback\"><pre>LogisticRegression()</pre><b>In a Jupyter environment, please rerun this cell to show the HTML representation or trust the notebook. <br />On GitHub, the HTML representation is unable to render, please try loading this page with nbviewer.org.</b></div><div class=\"sk-container\" hidden><div class=\"sk-item\"><div class=\"sk-estimator sk-toggleable\"><input class=\"sk-toggleable__control sk-hidden--visually\" id=\"sk-estimator-id-2\" type=\"checkbox\" checked><label for=\"sk-estimator-id-2\" class=\"sk-toggleable__label sk-toggleable__label-arrow\">LogisticRegression</label><div class=\"sk-toggleable__content\"><pre>LogisticRegression()</pre></div></div></div></div></div>"
      ],
      "text/plain": [
       "LogisticRegression()"
      ]
     },
     "execution_count": 14,
     "metadata": {},
     "output_type": "execute_result"
    }
   ],
   "source": [
    "lr.fit(X_train, y_train)"
   ]
  },
  {
   "cell_type": "markdown",
   "metadata": {},
   "source": [
    "# Making predictions"
   ]
  },
  {
   "cell_type": "code",
   "execution_count": 15,
   "metadata": {},
   "outputs": [],
   "source": [
    "scores = lr.predict_proba(X_test)[:,1]"
   ]
  },
  {
   "cell_type": "markdown",
   "metadata": {},
   "source": [
    "# Functions for evaluating fp,tp and accuracy"
   ]
  },
  {
   "cell_type": "code",
   "execution_count": 16,
   "metadata": {},
   "outputs": [],
   "source": [
    "def eval_fp_tp(actual, predicted):\n",
    "    fp = np.logical_and(predicted, np.logical_not(actual))\n",
    "    tp = np.logical_and(predicted, actual)\n",
    "    return (sum(fp), sum(tp))"
   ]
  },
  {
   "cell_type": "code",
   "execution_count": 17,
   "metadata": {},
   "outputs": [],
   "source": [
    "def eval_accuracy(actual, predicted):\n",
    "    tp = np.logical_and(predicted, actual)\n",
    "    tn = np.logical_and(np.logical_not(predicted), np.logical_not(actual))\n",
    "    return (sum(tp) + sum(tn))/len(actual)"
   ]
  },
  {
   "cell_type": "markdown",
   "metadata": {},
   "source": [
    "# fp,tp and accuracy evaluations for different thresholds\n",
    "\n",
    "Given the scores for the test cases, we might want to find the best possible threshold for classification, i.e.,\n",
    "the real value $t$ such that `scores >` $t$ gives the best classifiation of the examples.\n",
    "\n",
    "Let us then start to consider 100 possible thresholds in the range $[0,1]$:"
   ]
  },
  {
   "cell_type": "code",
   "execution_count": 18,
   "metadata": {},
   "outputs": [],
   "source": [
    "thresholds = [i/100.0 for i in range(0,100)]"
   ]
  },
  {
   "cell_type": "markdown",
   "metadata": {},
   "source": [
    "and compute the tp, fp, and accuracy values of the labelings obtained by comparing the scores with those thresholds."
   ]
  },
  {
   "cell_type": "code",
   "execution_count": 19,
   "metadata": {},
   "outputs": [],
   "source": [
    "actual = y_test\n",
    "performances = []\n",
    "fps, tps = [], []\n",
    "for t in thresholds:\n",
    "    predicted = scores > t\n",
    "    fp, tp = eval_fp_tp(actual, predicted)\n",
    "    fps.append(fp)\n",
    "    tps.append(tp)\n",
    "\n",
    "    tn = Neg - fp\n",
    "    acc = (tp + tn)/(Pos + Neg)\n",
    "    performances.append((acc, t, fp, tp))\n",
    "\n",
    "performances = np.array(performances)"
   ]
  },
  {
   "cell_type": "markdown",
   "metadata": {},
   "source": [
    "# Plotting\n",
    "\n",
    "Let us then start plotting the coverage plot for the obtained classifications."
   ]
  },
  {
   "cell_type": "code",
   "execution_count": 20,
   "metadata": {},
   "outputs": [
    {
     "data": {
      "text/plain": [
       "[<matplotlib.lines.Line2D at 0x1401c8580>]"
      ]
     },
     "execution_count": 20,
     "metadata": {},
     "output_type": "execute_result"
    },
    {
     "data": {
      "image/png": "[encoded data removed]",
      "text/plain": [
       "<Figure size 640x480 with 1 Axes>"
      ]
     },
     "metadata": {},
     "output_type": "display_data"
    }
   ],
   "source": [
    "plt.plot(fps, tps)\n"
   ]
  },
  {
   "cell_type": "markdown",
   "metadata": {},
   "source": [
    "# Checking performances for threshold 0.5\n",
    "\n",
    "The predict_proba method we used to get the score returns the probability that examples belong to the positive class. Usually the positive class is then predicted as score > 0.5 (since in this case it is the one with the largest likelihood).\n",
    "\n",
    "Let's then see where this classifier (i.e., the one obtained setting the threshold to 0.5) lays in the coverage plot and if there are better options.\n",
    "\n",
    "**note**: since we saved interesting stats in the `performances` array, we can retrieve the fp, tp position of the classifier we get by setting the thresholds to 0.5, by finding the position of the row we are interested using the expression: `performances[:,1] == 0.5` and then using the resulting boolean vector to retrieve the correct row of the matrix: `performances[performances[:,1] == 0.5]`.\n",
    "```"
   ]
  },
  {
   "cell_type": "code",
   "execution_count": 21,
   "metadata": {},
   "outputs": [
    {
     "data": {
      "text/plain": [
       "[<matplotlib.lines.Line2D at 0x1403cda00>]"
      ]
     },
     "execution_count": 21,
     "metadata": {},
     "output_type": "execute_result"
    },
    {
     "data": {
      "image/png": "[encoded data removed]",
      "text/plain": [
       "<Figure size 640x480 with 1 Axes>"
      ]
     },
     "metadata": {},
     "output_type": "display_data"
    }
   ],
   "source": [
    "plt.plot(fps, tps)\n",
    "accuracy, threshold, fp, tp = performances[performances[:,1] == 0.5][0]\n",
    "plt.scatter(fp,tp,color='red')\n",
    "plt.plot([fp-10,fp+10],[tp-10,tp+10], color=\"red\")"
   ]
  },
  {
   "cell_type": "markdown",
   "metadata": {},
   "source": [
    "As it is shown by the red dot and the red line, threshold 0.5 is a good one, but apparently two other points can reach a better classification.\n",
    "\n",
    "Let us see where these point lay in the plot and what is their accuracy."
   ]
  },
  {
   "cell_type": "code",
   "execution_count": 22,
   "metadata": {},
   "outputs": [
    {
     "data": {
      "text/plain": [
       "array([[9.68085106e-01, 9.00000000e-02, 6.00000000e+00, 1.21000000e+02],\n",
       "       [9.68085106e-01, 1.00000000e-01, 6.00000000e+00, 1.21000000e+02],\n",
       "       [9.68085106e-01, 1.10000000e-01, 6.00000000e+00, 1.21000000e+02],\n",
       "       [9.68085106e-01, 1.20000000e-01, 6.00000000e+00, 1.21000000e+02],\n",
       "       [9.68085106e-01, 1.30000000e-01, 6.00000000e+00, 1.21000000e+02],\n",
       "       [9.68085106e-01, 1.40000000e-01, 6.00000000e+00, 1.21000000e+02],\n",
       "       [9.68085106e-01, 1.50000000e-01, 6.00000000e+00, 1.21000000e+02],\n",
       "       [9.68085106e-01, 1.60000000e-01, 6.00000000e+00, 1.21000000e+02],\n",
       "       [9.68085106e-01, 1.70000000e-01, 6.00000000e+00, 1.21000000e+02],\n",
       "       [9.73404255e-01, 1.80000000e-01, 5.00000000e+00, 1.21000000e+02],\n",
       "       [9.73404255e-01, 1.90000000e-01, 5.00000000e+00, 1.21000000e+02],\n",
       "       [9.68085106e-01, 2.00000000e-01, 5.00000000e+00, 1.20000000e+02],\n",
       "       [9.68085106e-01, 2.10000000e-01, 5.00000000e+00, 1.20000000e+02],\n",
       "       [9.68085106e-01, 2.20000000e-01, 5.00000000e+00, 1.20000000e+02],\n",
       "       [9.68085106e-01, 2.30000000e-01, 5.00000000e+00, 1.20000000e+02],\n",
       "       [9.68085106e-01, 2.40000000e-01, 5.00000000e+00, 1.20000000e+02],\n",
       "       [9.68085106e-01, 2.50000000e-01, 5.00000000e+00, 1.20000000e+02],\n",
       "       [9.68085106e-01, 2.60000000e-01, 5.00000000e+00, 1.20000000e+02],\n",
       "       [9.68085106e-01, 5.40000000e-01, 2.00000000e+00, 1.17000000e+02],\n",
       "       [9.68085106e-01, 5.50000000e-01, 2.00000000e+00, 1.17000000e+02],\n",
       "       [9.68085106e-01, 5.60000000e-01, 2.00000000e+00, 1.17000000e+02],\n",
       "       [9.68085106e-01, 5.70000000e-01, 2.00000000e+00, 1.17000000e+02],\n",
       "       [9.68085106e-01, 5.80000000e-01, 2.00000000e+00, 1.17000000e+02],\n",
       "       [9.68085106e-01, 5.90000000e-01, 2.00000000e+00, 1.17000000e+02],\n",
       "       [9.68085106e-01, 6.00000000e-01, 2.00000000e+00, 1.17000000e+02],\n",
       "       [9.68085106e-01, 6.10000000e-01, 2.00000000e+00, 1.17000000e+02],\n",
       "       [9.73404255e-01, 6.20000000e-01, 1.00000000e+00, 1.17000000e+02],\n",
       "       [9.73404255e-01, 6.30000000e-01, 1.00000000e+00, 1.17000000e+02],\n",
       "       [9.73404255e-01, 6.40000000e-01, 1.00000000e+00, 1.17000000e+02],\n",
       "       [9.73404255e-01, 6.50000000e-01, 1.00000000e+00, 1.17000000e+02],\n",
       "       [9.73404255e-01, 6.60000000e-01, 1.00000000e+00, 1.17000000e+02],\n",
       "       [9.73404255e-01, 6.70000000e-01, 1.00000000e+00, 1.17000000e+02],\n",
       "       [9.73404255e-01, 6.80000000e-01, 1.00000000e+00, 1.17000000e+02],\n",
       "       [9.73404255e-01, 6.90000000e-01, 1.00000000e+00, 1.17000000e+02],\n",
       "       [9.68085106e-01, 7.00000000e-01, 1.00000000e+00, 1.16000000e+02],\n",
       "       [9.68085106e-01, 7.10000000e-01, 1.00000000e+00, 1.16000000e+02]])"
      ]
     },
     "execution_count": 22,
     "metadata": {},
     "output_type": "execute_result"
    }
   ],
   "source": [
    "# Note: the subscription returns a matrix with a single row, but still two dimensions, \n",
    "# we need to get the element in the first position of that matrix...\n",
    "\n",
    "perf05 = performances[performances[:, 1] == 0.5][0,0] \n",
    "performances[performances[:,0] > perf05]"
   ]
  },
  {
   "cell_type": "markdown",
   "metadata": {},
   "source": [
    "The two points that we are looking for are then in position (5,121) and (1,117)"
   ]
  },
  {
   "cell_type": "code",
   "execution_count": 23,
   "metadata": {},
   "outputs": [
    {
     "data": {
      "text/plain": [
       "[<matplotlib.lines.Line2D at 0x140462c40>]"
      ]
     },
     "execution_count": 23,
     "metadata": {},
     "output_type": "execute_result"
    },
    {
     "data": {
      "image/png": "[encoded data removed]",
      "text/plain": [
       "<Figure size 640x480 with 1 Axes>"
      ]
     },
     "metadata": {},
     "output_type": "display_data"
    }
   ],
   "source": [
    "plt.plot(fps, tps)\n",
    "fp, tp = eval_fp_tp(actual, scores > 0.5)\n",
    "plt.scatter(fp,tp, color=\"red\")\n",
    "plt.scatter(5,121, color=\"orange\")\n",
    "plt.scatter(1,117, color=\"orange\")\n",
    "plt.plot([fp-10,fp+10],[tp-10,tp+10], color=\"red\")"
   ]
  },
  {
   "cell_type": "markdown",
   "metadata": {},
   "source": [
    "These two points (that we found by looking only to the accuracies) are indeed the two points that the plot show having a better accuracy. "
   ]
  }
 ],
 "metadata": {
  "kernelspec": {
   "display_name": "Python 3.9.12 ('venvml': venv)",
   "language": "python",
   "name": "python3"
  },
  "language_info": {
   "codemirror_mode": {
    "name": "ipython",
    "version": 3
   },
   "file_extension": ".py",
   "mimetype": "text/x-python",
   "name": "python",
   "nbconvert_exporter": "python",
   "pygments_lexer": "ipython3",
   "version": "3.9.12"
  },
  "orig_nbformat": 2,
  "vscode": {
   "interpreter": {
    "hash": "0deb4c735064d4b30eb0c605176a413c4a9e484dcb1599c34b8b5b3830bfb796"
   }
  }
 },
 "nbformat": 4,
 "nbformat_minor": 2
}
