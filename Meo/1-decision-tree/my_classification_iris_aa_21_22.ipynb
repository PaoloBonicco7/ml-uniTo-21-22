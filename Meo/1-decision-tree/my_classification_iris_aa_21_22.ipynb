{
  "cells": [
    {
      "cell_type": "markdown",
      "metadata": {
        "id": "KEKy3XmT7H-U"
      },
      "source": [
        "# Classifiers introduction\n",
        "\n",
        "In the following program we introduce the basic steps of classification of a dataset in a matrix"
      ]
    },
    {
      "cell_type": "markdown",
      "metadata": {
        "id": "btrnWCpJ7H-W"
      },
      "source": [
        "Import the package for learning and modeling trees"
      ]
    },
    {
      "cell_type": "code",
      "execution_count": 2,
      "metadata": {
        "id": "QFXKb7yA7H-X",
        "scrolled": true
      },
      "outputs": [],
      "source": [
        "from sklearn import tree "
      ]
    },
    {
      "cell_type": "markdown",
      "metadata": {
        "id": "1Sx9T_yz7H-f"
      },
      "source": [
        "Define the matrix containing the data (one example per row)\n",
        "and the vector containing the corresponding target value."
      ]
    },
    {
      "cell_type": "code",
      "execution_count": 3,
      "metadata": {
        "id": "HDFiRDXq7H-g"
      },
      "outputs": [],
      "source": [
        "X = [[0, 0, 0], [1, 1, 1], [0, 1, 0], [0, 0, 1], [1, 1, 0], [1, 0, 1]] #TRAINING SET (EXAMPLES)\n",
        "Y = [1, 0, 0, 0, 1, 1]  #TRAINING SET (LABELS)"
      ]
    },
    {
      "cell_type": "markdown",
      "metadata": {
        "id": "VLgMBwpZ7H-n"
      },
      "source": [
        "Declare the classification model you want to use and then fit the model to the data"
      ]
    },
    {
      "cell_type": "code",
      "execution_count": 4,
      "metadata": {
        "id": "RbHJM2ur7H-o"
      },
      "outputs": [
        {
          "name": "stdout",
          "output_type": "stream",
          "text": [
            "[1]\n"
          ]
        }
      ],
      "source": [
        "clf = tree.DecisionTreeClassifier()\n",
        "clf = clf.fit(X, Y)"
      ]
    },
    {
      "cell_type": "markdown",
      "metadata": {
        "id": "lUtyP-xO7H-t"
      },
      "source": [
        "Predict the target value (and print it) for the passed data, using the fitted model currently in clf"
      ]
    },
    {
      "cell_type": "code",
      "execution_count": 4,
      "metadata": {
        "colab": {
          "base_uri": "https://localhost:8080/"
        },
        "id": "RTo8XvPr7H-v",
        "outputId": "ff0813b5-71d5-4cb9-9163-cfefac33b8b9"
      },
      "outputs": [
        {
          "name": "stdout",
          "output_type": "stream",
          "text": [
            "[0]\n"
          ]
        }
      ],
      "source": [
        "print(clf.predict([[0, 1, 1]])) #Esempi non noti"
      ]
    },
    {
      "cell_type": "code",
      "execution_count": 5,
      "metadata": {
        "colab": {
          "base_uri": "https://localhost:8080/"
        },
        "id": "ncK8CxO17H-0",
        "outputId": "20a9b9ae-c716-431a-ecf3-1b529a951380"
      },
      "outputs": [
        {
          "name": "stdout",
          "output_type": "stream",
          "text": [
            "[1 0]\n"
          ]
        }
      ],
      "source": [
        "print(clf.predict([[1, 0, 1],[0, 0, 1]])) #Esempi ignoti"
      ]
    },
    {
      "cell_type": "markdown",
      "metadata": {},
      "source": [
        "# Descrizione del Dataset\n",
        "## X = [[0, 0, 0], [1, 1, 1], [0, 1, 0], [0, 0, 1], [1, 1, 0], [1, 0, 1]]\n",
        "## Y = [1, 0, 0, 0, 1, 1]\n",
        "\n",
        "So we've n+ = 3 and n-=3, the result can be 1 or 0 so we're in a binary case:\n",
        "Abbiamo 3 esempi positivi (valore = 1, n+) e 3 valori negativi (valore = 0, n-). Siamo in un caso binario quindi il valore può essere 0 o 1. \n",
        "\n",
        "**p => Empirical Probability (probabilità empirica)**\n",
        "\n",
        "**p = (n+)/(n+(+)n-) = 3/6 = 0.5 --> GINI INDEX**\n",
        "\n",
        "Lo split viene eseguito su una condizione: Se X[n] (elemento dell'array) è maggiore/minoreminore di 0,5. \n",
        "Dopo uno split se il gini index non è = a 0 allora rieseguo un altro split esaminando un'altro elemento dell'array, altrimenti etichettiamo la foglia con la label del valore corrispondente."
      ]
    },
    {
      "cell_type": "code",
      "execution_count": 8,
      "metadata": {
        "colab": {
          "base_uri": "https://localhost:8080/",
          "height": 518
        },
        "id": "qP9sNQ2t7H-5",
        "outputId": "88b5948f-0ca1-4e2d-c8a2-537c89b39305"
      },
      "outputs": [
        {
          "ename": "ModuleNotFoundError",
          "evalue": "No module named 'graphviz'",
          "output_type": "error",
          "traceback": [
            "\u001b[0;31m---------------------------------------------------------------------------\u001b[0m",
            "\u001b[0;31mModuleNotFoundError\u001b[0m                       Traceback (most recent call last)",
            "\u001b[0;32m/var/folders/1h/nl4lppwj1hgdkrq7c63vgdpr0000gn/T/ipykernel_6649/3992452205.py\u001b[0m in \u001b[0;36m<module>\u001b[0;34m\u001b[0m\n\u001b[0;32m----> 1\u001b[0;31m \u001b[0;32mimport\u001b[0m \u001b[0mgraphviz\u001b[0m\u001b[0;34m\u001b[0m\u001b[0;34m\u001b[0m\u001b[0m\n\u001b[0m\u001b[1;32m      2\u001b[0m \u001b[0;34m\u001b[0m\u001b[0m\n\u001b[1;32m      3\u001b[0m \u001b[0;31m#crea uno script in DOT, linguaggio usato per descrivere grafici\u001b[0m\u001b[0;34m\u001b[0m\u001b[0;34m\u001b[0m\u001b[0m\n\u001b[1;32m      4\u001b[0m \u001b[0mdot_data\u001b[0m \u001b[0;34m=\u001b[0m \u001b[0mtree\u001b[0m\u001b[0;34m.\u001b[0m\u001b[0mexport_graphviz\u001b[0m\u001b[0;34m(\u001b[0m\u001b[0mclf\u001b[0m\u001b[0;34m,\u001b[0m \u001b[0mout_file\u001b[0m\u001b[0;34m=\u001b[0m\u001b[0;32mNone\u001b[0m\u001b[0;34m)\u001b[0m\u001b[0;34m\u001b[0m\u001b[0;34m\u001b[0m\u001b[0m\n\u001b[1;32m      5\u001b[0m \u001b[0;34m\u001b[0m\u001b[0m\n",
            "\u001b[0;31mModuleNotFoundError\u001b[0m: No module named 'graphviz'"
          ]
        }
      ],
      "source": [
        "import graphviz \n",
        "\n",
        "#crea uno script in DOT, linguaggio usato per descrivere grafici\n",
        "dot_data = tree.export_graphviz(clf, out_file=None) \n",
        "\n",
        "graph = graphviz.Source(dot_data)  \n",
        "graph"
      ]
    },
    {
      "cell_type": "markdown",
      "metadata": {},
      "source": [
        "# Descrizione albero:\n",
        "Nel primo nodo abbiamo un gini index di 0.5, che è il valore peggiore che possiamo predirre in un caso binario. Dopo di che esaminiamo le feature (seguendo l'ordine 1,2 e 3 **?** ) ed eseguiamo gli split. Visto che ci sono solo 2 possibili valori che possono assumere le features ogni taglio genererà solamente 2 nodi."
      ]
    },
    {
      "cell_type": "markdown",
      "metadata": {
        "id": "9oCMYXsO7H--"
      },
      "source": [
        "# Iris Dataset\n",
        "## In the following we start using a dataset (from UCI Machine Learning repository)\n",
        "\n",
        "Il dataset è composto da fiori. I fiori hanno associati a loro 4 valori."
      ]
    },
    {
      "cell_type": "code",
      "execution_count": 7,
      "metadata": {},
      "outputs": [
        {
          "name": "stdout",
          "output_type": "stream",
          "text": [
            "150\n"
          ]
        }
      ],
      "source": [
        "from sklearn.datasets import load_iris\n",
        "iris = load_iris()\n",
        "print(len(iris.data))\n",
        "\n",
        "# print(iris.data)\n",
        "# print(iris.target)\n",
        "# print(iris)\n"
      ]
    },
    {
      "cell_type": "markdown",
      "metadata": {
        "id": "JzZnLA4N7H_D"
      },
      "source": [
        "# Declare the type of prediction model and the working criteria for the model induction algorithm \n",
        "\n",
        "**criterion**: Qui usiamo l'**Entropia** invece del gini index\n",
        "\n",
        "**random_state**: per fissare la randomizzazione e quindi ottenere un comportamento deterministico per la randomizzazione\n",
        "\n",
        "**min_samples_leaf**: una foglia dovrà contenere ALMENO 5 esempi per esistere (cosi si evita overfitting)\n",
        "\n",
        "**class_weight**: Associamo un peso ad ognuna delle tre classi, in questo caso le classi hanno tutte lo stesso peso, pari a 1. \n",
        "N.B. in questo caso non ci sono più i *falsi positivi* (**FP**) e i *falsi negativi* (**FN**)."
      ]
    },
    {
      "cell_type": "code",
      "execution_count": null,
      "metadata": {
        "id": "Ul-cA4Hv7H_E"
      },
      "outputs": [],
      "source": [
        "clf = tree.DecisionTreeClassifier(criterion=\"entropy\",random_state=300,min_samples_leaf=5,class_weight={0:1,1:1,2:1})"
      ]
    },
    {
      "cell_type": "markdown",
      "metadata": {
        "id": "iqH8H1UD7H_H"
      },
      "source": [
        "# Split the dataset in training and test set"
      ]
    },
    {
      "cell_type": "markdown",
      "metadata": {},
      "source": [
        "## Randomizziamo il dataset e splittiamo in *test* e *training set*"
      ]
    },
    {
      "cell_type": "code",
      "execution_count": null,
      "metadata": {
        "colab": {
          "base_uri": "https://localhost:8080/"
        },
        "id": "gSKsWOoz7H_I",
        "outputId": "405a8af4-5060-4338-ebb5-55e1722c30a8"
      },
      "outputs": [],
      "source": [
        "# Generate a random permutation of the indices of examples that will be later used \n",
        "# for the training and the test set\n",
        "import numpy as np\n",
        "np.random.seed(0)\n",
        "indices = np.random.permutation(len(iris.data))\n",
        "\n",
        "# We now decide to keep the last 10 indices for test set, the remaining for the training set\n",
        "indices_training=indices[:-10] #INDICI TRAINING SET: PRIMI 140 ELEMENTI DEL VETTORE RANDOM\n",
        "indices_test=indices[-10:] #INDICI TEST SET: ULTIMI 10 ELEMENTI DEL VETTORE RANDOM\n",
        "\n",
        "iris_X_train = iris.data[indices_training] # keep for training all the matrix elements with the exception of the last 10 \n",
        "iris_y_train = iris.target[indices_training]\n",
        "iris_X_test  = iris.data[indices_test] # keep the last 10 elements for test set\n",
        "iris_y_test  = iris.target[indices_test]\n",
        "\n"
      ]
    },
    {
      "cell_type": "markdown",
      "metadata": {
        "id": "vNbXUYI07H_K"
      },
      "source": [
        "# Fit the learning model on training set"
      ]
    },
    {
      "cell_type": "code",
      "execution_count": null,
      "metadata": {
        "id": "1A3MqXZs7H_L"
      },
      "outputs": [],
      "source": [
        "# fit the model to the training data\n",
        "clf = clf.fit(iris_X_train, iris_y_train)"
      ]
    },
    {
      "cell_type": "markdown",
      "metadata": {
        "id": "FPdjlWZB7H_P"
      },
      "source": [
        "# Obtain predictions"
      ]
    },
    {
      "cell_type": "code",
      "execution_count": null,
      "metadata": {
        "colab": {
          "base_uri": "https://localhost:8080/"
        },
        "id": "qMP6rS-97H_P",
        "outputId": "5fbb30d1-ea79-4b4e-8523-b8f3bd828628"
      },
      "outputs": [],
      "source": [
        "# apply fitted model \"clf\" to the test set \n",
        "predicted_y_test = clf.predict(iris_X_test)\n",
        "\n",
        "# print the predictions (class numbers associated to classes names in target names)\n",
        "print(\"Predictions:\")\n",
        "print(predicted_y_test)\n",
        "print(\"True classes:\")\n",
        "print(iris_y_test) \n",
        "print(iris.target_names)"
      ]
    },
    {
      "cell_type": "markdown",
      "metadata": {},
      "source": [
        "## Da notare l'errore sul secondo esempio che è stato predetto in maniera errata."
      ]
    },
    {
      "cell_type": "markdown",
      "metadata": {
        "id": "8TZyuYLx7H_T"
      },
      "source": [
        "Print the index of the test instances and the corresponding predictions"
      ]
    },
    {
      "cell_type": "code",
      "execution_count": null,
      "metadata": {
        "colab": {
          "base_uri": "https://localhost:8080/"
        },
        "id": "qRz0f9NK7H_T",
        "outputId": "9aa9667e-001d-435a-e910-3b102587fe56"
      },
      "outputs": [],
      "source": [
        "# print the corresponding instances indexes and class names \n",
        "for i in range(len(iris_y_test)): \n",
        "    print(\"Instance # \"+str(indices_test[i])+\": \")\n",
        "    print(\"Predicted: \"+iris.target_names[predicted_y_test[i]]+\"\\t True: \"+iris.target_names[iris_y_test[i]]+\" [\"+\n",
        "                        (\"OK\" if iris.target_names[predicted_y_test[i]]==iris.target_names[iris_y_test[i]] else \"NOT OK\")\n",
        "          +\"]\\n\")"
      ]
    },
    {
      "cell_type": "markdown",
      "metadata": {
        "id": "yj3hYAqQ7H_W"
      },
      "source": [
        "# Look at the specific examples (TEST SET)"
      ]
    },
    {
      "cell_type": "code",
      "execution_count": null,
      "metadata": {
        "colab": {
          "base_uri": "https://localhost:8080/"
        },
        "id": "HGKB-S6b7H_X",
        "outputId": "69db69d5-52cd-452a-feb1-f36921330eef"
      },
      "outputs": [],
      "source": [
        "for i in range(len(iris_y_test)): \n",
        "    print(\"Instance # \"+str(indices_test)+\": \")\n",
        "    s=\"\"\n",
        "    for j in range(len(iris.feature_names)):\n",
        "        s=s+iris.feature_names[j]+\"=\"+str(iris_X_test[i][j])\n",
        "        if (j<len(iris.feature_names)-1): s=s+\", \"\n",
        "    print(s)\n",
        "    print(\"Predicted: \"+iris.target_names[predicted_y_test[i]]+\"\\t True: \"+iris.target_names[iris_y_test[i]]+\"                                              \\t[\"+\n",
        "                        (\"OK\" if iris.target_names[predicted_y_test[i]]==iris.target_names[iris_y_test[i]] else \"NOT OK\")\n",
        "          +\"]\\n\")"
      ]
    },
    {
      "cell_type": "markdown",
      "metadata": {
        "id": "r9zos0wm7H_Z"
      },
      "source": [
        "# Obtain model performance results"
      ]
    },
    {
      "cell_type": "markdown",
      "metadata": {},
      "source": [
        "F1 is a balanced average of the accuracy_score of the model. Is another way to evaluate the average"
      ]
    },
    {
      "cell_type": "code",
      "execution_count": null,
      "metadata": {
        "colab": {
          "base_uri": "https://localhost:8080/"
        },
        "id": "HBNKQQqa7H_a",
        "outputId": "3104d529-d4ab-4081-d7c8-98a04d58145f"
      },
      "outputs": [],
      "source": [
        "# print some metrics results\n",
        "from sklearn.metrics import accuracy_score\n",
        "from sklearn.metrics import f1_score\n",
        "acc_score = accuracy_score(iris_y_test, predicted_y_test)\n",
        "print(\"Accuracy score: \"+ str(acc_score))\n",
        "f1=f1_score(iris_y_test, predicted_y_test, average='macro')\n",
        "print(\"F1 score: \"+str(f1))\n",
        "#'macro' = MEDIA NON PESATA DELLO SCORE SU OGNI CLASSE \n",
        "#       (OVVERO: ESEMPI PESATI TUTTI ALLO STESSO MODO) \n",
        "#       --> MEGLIO, SOPRATTUTTO SE LE DISTRIBUZIONI SONO DIFFERENTI!\n",
        "#'micro' = MEDIA CALCOLATA GLOBALMENTE SUI TP, FN, FP"
      ]
    },
    {
      "cell_type": "markdown",
      "metadata": {
        "id": "MNO0xcGq7H_c"
      },
      "source": [
        "# Use Cross Validation (5 FOLDS)"
      ]
    },
    {
      "cell_type": "code",
      "execution_count": null,
      "metadata": {
        "colab": {
          "base_uri": "https://localhost:8080/"
        },
        "id": "wmt414Lm7H_c",
        "outputId": "8fab88a9-0c2a-4527-8e0b-b7e802810396"
      },
      "outputs": [],
      "source": [
        "from sklearn.datasets import load_iris\n",
        "from sklearn.model_selection import cross_val_score # will be used to separate training and test\n",
        "iris = load_iris()\n",
        "clf = tree.DecisionTreeClassifier(criterion=\"entropy\",random_state=300,min_samples_leaf=5,class_weight={0:1,1:1,2:1})\n",
        "clf = clf.fit(iris.data, iris.target)\n",
        "scores = cross_val_score(clf, iris.data, iris.target, cv=5) # score will be the accuracy\n",
        "print(scores)"
      ]
    },
    {
      "cell_type": "code",
      "execution_count": null,
      "metadata": {
        "colab": {
          "base_uri": "https://localhost:8080/"
        },
        "id": "P-rd5Dq77H_e",
        "outputId": "8a88a6f6-2bcb-4a9a-b8a8-44835edb1214"
      },
      "outputs": [],
      "source": [
        "# computes F1- score\n",
        "f1_scores = cross_val_score(clf, iris.data, iris.target, cv=5, scoring='f1_macro')\n",
        "print(f1_scores)"
      ]
    },
    {
      "cell_type": "markdown",
      "metadata": {
        "id": "qcnegz_A7H_h"
      },
      "source": [
        "# Show the resulting tree "
      ]
    },
    {
      "cell_type": "markdown",
      "metadata": {
        "id": "hrA-f0e27H_i"
      },
      "source": [
        "## 1. Print the picture in a PDF file"
      ]
    },
    {
      "cell_type": "code",
      "execution_count": null,
      "metadata": {
        "colab": {
          "base_uri": "https://localhost:8080/",
          "height": 37
        },
        "id": "rPYEWkcH7H_i",
        "outputId": "0be40fe2-0c43-4fdb-d6ac-e4f7d2cb54f5",
        "scrolled": false
      },
      "outputs": [],
      "source": [
        "import graphviz \n",
        "dot_data = tree.export_graphviz(clf, out_file=None) \n",
        "graph = graphviz.Source(dot_data) \n",
        "graph.render(\"my_iris_predictions\")"
      ]
    },
    {
      "cell_type": "markdown",
      "metadata": {
        "id": "iM67N3vc7H_k"
      },
      "source": [
        "## 2. Generate a picture here"
      ]
    },
    {
      "cell_type": "code",
      "execution_count": null,
      "metadata": {
        "colab": {
          "base_uri": "https://localhost:8080/"
        },
        "id": "prgjDOka7H_l",
        "outputId": "06c32d36-b561-45a0-8148-0115974a55b2"
      },
      "outputs": [],
      "source": [
        "print(list(iris.feature_names))\n",
        "print(list(iris.target_names))"
      ]
    },
    {
      "cell_type": "code",
      "execution_count": 28,
      "metadata": {
        "colab": {
          "base_uri": "https://localhost:8080/",
          "height": 757
        },
        "id": "Pr32sBno7H_n",
        "outputId": "d4ca1191-622c-4ef9-9dc2-9642ca5675cb"
      },
      "outputs": [
        {
          "data": {
            "image/svg+xml": "<?xml version=\"1.0\" encoding=\"UTF-8\" standalone=\"no\"?>\n<!DOCTYPE svg PUBLIC \"-//W3C//DTD SVG 1.1//EN\"\n \"http://www.w3.org/Graphics/SVG/1.1/DTD/svg11.dtd\">\n<!-- Generated by graphviz version 2.40.1 (20161225.0304)\n -->\n<!-- Title: Tree Pages: 1 -->\n<svg width=\"639pt\" height=\"552pt\"\n viewBox=\"0.00 0.00 639.00 552.00\" xmlns=\"http://www.w3.org/2000/svg\" xmlns:xlink=\"http://www.w3.org/1999/xlink\">\n<g id=\"graph0\" class=\"graph\" transform=\"scale(1 1) rotate(0) translate(4 548)\">\n<title>Tree</title>\n<polygon fill=\"#ffffff\" stroke=\"transparent\" points=\"-4,4 -4,-548 635,-548 635,4 -4,4\"/>\n<!-- 0 -->\n<g id=\"node1\" class=\"node\">\n<title>0</title>\n<path fill=\"#ffffff\" stroke=\"#000000\" d=\"M353.5,-544C353.5,-544 217.5,-544 217.5,-544 211.5,-544 205.5,-538 205.5,-532 205.5,-532 205.5,-473 205.5,-473 205.5,-467 211.5,-461 217.5,-461 217.5,-461 353.5,-461 353.5,-461 359.5,-461 365.5,-467 365.5,-473 365.5,-473 365.5,-532 365.5,-532 365.5,-538 359.5,-544 353.5,-544\"/>\n<text text-anchor=\"start\" x=\"213.5\" y=\"-528.8\" font-family=\"Helvetica,sans-Serif\" font-size=\"14.00\" fill=\"#000000\">petal length (cm) ≤ 2.45</text>\n<text text-anchor=\"start\" x=\"238\" y=\"-513.8\" font-family=\"Helvetica,sans-Serif\" font-size=\"14.00\" fill=\"#000000\">entropy = 1.585</text>\n<text text-anchor=\"start\" x=\"240.5\" y=\"-498.8\" font-family=\"Helvetica,sans-Serif\" font-size=\"14.00\" fill=\"#000000\">samples = 150</text>\n<text text-anchor=\"start\" x=\"227.5\" y=\"-483.8\" font-family=\"Helvetica,sans-Serif\" font-size=\"14.00\" fill=\"#000000\">value = [50, 50, 50]</text>\n<text text-anchor=\"start\" x=\"242\" y=\"-468.8\" font-family=\"Helvetica,sans-Serif\" font-size=\"14.00\" fill=\"#000000\">class = setosa</text>\n</g>\n<!-- 1 -->\n<g id=\"node2\" class=\"node\">\n<title>1</title>\n<path fill=\"#e58139\" stroke=\"#000000\" d=\"M255,-417.5C255,-417.5 162,-417.5 162,-417.5 156,-417.5 150,-411.5 150,-405.5 150,-405.5 150,-361.5 150,-361.5 150,-355.5 156,-349.5 162,-349.5 162,-349.5 255,-349.5 255,-349.5 261,-349.5 267,-355.5 267,-361.5 267,-361.5 267,-405.5 267,-405.5 267,-411.5 261,-417.5 255,-417.5\"/>\n<text text-anchor=\"start\" x=\"168.5\" y=\"-402.3\" font-family=\"Helvetica,sans-Serif\" font-size=\"14.00\" fill=\"#000000\">entropy = 0.0</text>\n<text text-anchor=\"start\" x=\"167.5\" y=\"-387.3\" font-family=\"Helvetica,sans-Serif\" font-size=\"14.00\" fill=\"#000000\">samples = 50</text>\n<text text-anchor=\"start\" x=\"158\" y=\"-372.3\" font-family=\"Helvetica,sans-Serif\" font-size=\"14.00\" fill=\"#000000\">value = [50, 0, 0]</text>\n<text text-anchor=\"start\" x=\"165\" y=\"-357.3\" font-family=\"Helvetica,sans-Serif\" font-size=\"14.00\" fill=\"#000000\">class = setosa</text>\n</g>\n<!-- 0&#45;&gt;1 -->\n<g id=\"edge1\" class=\"edge\">\n<title>0&#45;&gt;1</title>\n<path fill=\"none\" stroke=\"#000000\" d=\"M258.5691,-460.8796C251.3117,-449.6636 243.4497,-437.5131 236.1535,-426.2372\"/>\n<polygon fill=\"#000000\" stroke=\"#000000\" points=\"239.0748,-424.3093 230.7038,-417.8149 233.1978,-428.112 239.0748,-424.3093\"/>\n<text text-anchor=\"middle\" x=\"225.4656\" y=\"-438.56\" font-family=\"Helvetica,sans-Serif\" font-size=\"14.00\" fill=\"#000000\">True</text>\n</g>\n<!-- 2 -->\n<g id=\"node3\" class=\"node\">\n<title>2</title>\n<path fill=\"#ffffff\" stroke=\"#000000\" d=\"M428,-425C428,-425 297,-425 297,-425 291,-425 285,-419 285,-413 285,-413 285,-354 285,-354 285,-348 291,-342 297,-342 297,-342 428,-342 428,-342 434,-342 440,-348 440,-354 440,-354 440,-413 440,-413 440,-419 434,-425 428,-425\"/>\n<text text-anchor=\"start\" x=\"293\" y=\"-409.8\" font-family=\"Helvetica,sans-Serif\" font-size=\"14.00\" fill=\"#000000\">petal width (cm) ≤ 1.75</text>\n<text text-anchor=\"start\" x=\"322.5\" y=\"-394.8\" font-family=\"Helvetica,sans-Serif\" font-size=\"14.00\" fill=\"#000000\">entropy = 1.0</text>\n<text text-anchor=\"start\" x=\"317.5\" y=\"-379.8\" font-family=\"Helvetica,sans-Serif\" font-size=\"14.00\" fill=\"#000000\">samples = 100</text>\n<text text-anchor=\"start\" x=\"308\" y=\"-364.8\" font-family=\"Helvetica,sans-Serif\" font-size=\"14.00\" fill=\"#000000\">value = [0, 50, 50]</text>\n<text text-anchor=\"start\" x=\"310\" y=\"-349.8\" font-family=\"Helvetica,sans-Serif\" font-size=\"14.00\" fill=\"#000000\">class = versicolor</text>\n</g>\n<!-- 0&#45;&gt;2 -->\n<g id=\"edge2\" class=\"edge\">\n<title>0&#45;&gt;2</title>\n<path fill=\"none\" stroke=\"#000000\" d=\"M312.4309,-460.8796C318.0837,-452.1434 324.1033,-442.8404 329.9366,-433.8253\"/>\n<polygon fill=\"#000000\" stroke=\"#000000\" points=\"332.9601,-435.5952 335.4542,-425.2981 327.0831,-431.7924 332.9601,-435.5952\"/>\n<text text-anchor=\"middle\" x=\"340.6924\" y=\"-446.0431\" font-family=\"Helvetica,sans-Serif\" font-size=\"14.00\" fill=\"#000000\">False</text>\n</g>\n<!-- 3 -->\n<g id=\"node4\" class=\"node\">\n<title>3</title>\n<path fill=\"#4de88e\" stroke=\"#000000\" d=\"M341.5,-306C341.5,-306 205.5,-306 205.5,-306 199.5,-306 193.5,-300 193.5,-294 193.5,-294 193.5,-235 193.5,-235 193.5,-229 199.5,-223 205.5,-223 205.5,-223 341.5,-223 341.5,-223 347.5,-223 353.5,-229 353.5,-235 353.5,-235 353.5,-294 353.5,-294 353.5,-300 347.5,-306 341.5,-306\"/>\n<text text-anchor=\"start\" x=\"201.5\" y=\"-290.8\" font-family=\"Helvetica,sans-Serif\" font-size=\"14.00\" fill=\"#000000\">petal length (cm) ≤ 4.95</text>\n<text text-anchor=\"start\" x=\"226\" y=\"-275.8\" font-family=\"Helvetica,sans-Serif\" font-size=\"14.00\" fill=\"#000000\">entropy = 0.445</text>\n<text text-anchor=\"start\" x=\"232.5\" y=\"-260.8\" font-family=\"Helvetica,sans-Serif\" font-size=\"14.00\" fill=\"#000000\">samples = 54</text>\n<text text-anchor=\"start\" x=\"223\" y=\"-245.8\" font-family=\"Helvetica,sans-Serif\" font-size=\"14.00\" fill=\"#000000\">value = [0, 49, 5]</text>\n<text text-anchor=\"start\" x=\"221\" y=\"-230.8\" font-family=\"Helvetica,sans-Serif\" font-size=\"14.00\" fill=\"#000000\">class = versicolor</text>\n</g>\n<!-- 2&#45;&gt;3 -->\n<g id=\"edge3\" class=\"edge\">\n<title>2&#45;&gt;3</title>\n<path fill=\"none\" stroke=\"#000000\" d=\"M331.3721,-341.8796C324.771,-333.0534 317.7371,-323.6485 310.9298,-314.5466\"/>\n<polygon fill=\"#000000\" stroke=\"#000000\" points=\"313.5528,-312.2099 304.7607,-306.2981 307.9472,-316.4024 313.5528,-312.2099\"/>\n</g>\n<!-- 8 -->\n<g id=\"node9\" class=\"node\">\n<title>8</title>\n<path fill=\"#843de6\" stroke=\"#000000\" d=\"M519.5,-306C519.5,-306 383.5,-306 383.5,-306 377.5,-306 371.5,-300 371.5,-294 371.5,-294 371.5,-235 371.5,-235 371.5,-229 377.5,-223 383.5,-223 383.5,-223 519.5,-223 519.5,-223 525.5,-223 531.5,-229 531.5,-235 531.5,-235 531.5,-294 531.5,-294 531.5,-300 525.5,-306 519.5,-306\"/>\n<text text-anchor=\"start\" x=\"379.5\" y=\"-290.8\" font-family=\"Helvetica,sans-Serif\" font-size=\"14.00\" fill=\"#000000\">petal length (cm) ≤ 4.95</text>\n<text text-anchor=\"start\" x=\"404\" y=\"-275.8\" font-family=\"Helvetica,sans-Serif\" font-size=\"14.00\" fill=\"#000000\">entropy = 0.151</text>\n<text text-anchor=\"start\" x=\"410.5\" y=\"-260.8\" font-family=\"Helvetica,sans-Serif\" font-size=\"14.00\" fill=\"#000000\">samples = 46</text>\n<text text-anchor=\"start\" x=\"401\" y=\"-245.8\" font-family=\"Helvetica,sans-Serif\" font-size=\"14.00\" fill=\"#000000\">value = [0, 1, 45]</text>\n<text text-anchor=\"start\" x=\"403\" y=\"-230.8\" font-family=\"Helvetica,sans-Serif\" font-size=\"14.00\" fill=\"#000000\">class = virginica</text>\n</g>\n<!-- 2&#45;&gt;8 -->\n<g id=\"edge8\" class=\"edge\">\n<title>2&#45;&gt;8</title>\n<path fill=\"none\" stroke=\"#000000\" d=\"M393.6279,-341.8796C400.229,-333.0534 407.2629,-323.6485 414.0702,-314.5466\"/>\n<polygon fill=\"#000000\" stroke=\"#000000\" points=\"417.0528,-316.4024 420.2393,-306.2981 411.4472,-312.2099 417.0528,-316.4024\"/>\n</g>\n<!-- 4 -->\n<g id=\"node5\" class=\"node\">\n<title>4</title>\n<path fill=\"#3de684\" stroke=\"#000000\" d=\"M199,-187C199,-187 60,-187 60,-187 54,-187 48,-181 48,-175 48,-175 48,-116 48,-116 48,-110 54,-104 60,-104 60,-104 199,-104 199,-104 205,-104 211,-110 211,-116 211,-116 211,-175 211,-175 211,-181 205,-187 199,-187\"/>\n<text text-anchor=\"start\" x=\"56\" y=\"-171.8\" font-family=\"Helvetica,sans-Serif\" font-size=\"14.00\" fill=\"#000000\">sepal length (cm) ≤ 5.15</text>\n<text text-anchor=\"start\" x=\"82\" y=\"-156.8\" font-family=\"Helvetica,sans-Serif\" font-size=\"14.00\" fill=\"#000000\">entropy = 0.146</text>\n<text text-anchor=\"start\" x=\"88.5\" y=\"-141.8\" font-family=\"Helvetica,sans-Serif\" font-size=\"14.00\" fill=\"#000000\">samples = 48</text>\n<text text-anchor=\"start\" x=\"79\" y=\"-126.8\" font-family=\"Helvetica,sans-Serif\" font-size=\"14.00\" fill=\"#000000\">value = [0, 47, 1]</text>\n<text text-anchor=\"start\" x=\"77\" y=\"-111.8\" font-family=\"Helvetica,sans-Serif\" font-size=\"14.00\" fill=\"#000000\">class = versicolor</text>\n</g>\n<!-- 3&#45;&gt;4 -->\n<g id=\"edge4\" class=\"edge\">\n<title>3&#45;&gt;4</title>\n<path fill=\"none\" stroke=\"#000000\" d=\"M223.1358,-222.8796C211.8015,-213.513 199.6785,-203.4948 188.0419,-193.8784\"/>\n<polygon fill=\"#000000\" stroke=\"#000000\" points=\"190.0173,-190.9703 180.0792,-187.2981 185.5581,-196.3663 190.0173,-190.9703\"/>\n</g>\n<!-- 7 -->\n<g id=\"node8\" class=\"node\">\n<title>7</title>\n<path fill=\"#c09cf2\" stroke=\"#000000\" d=\"M330,-179.5C330,-179.5 241,-179.5 241,-179.5 235,-179.5 229,-173.5 229,-167.5 229,-167.5 229,-123.5 229,-123.5 229,-117.5 235,-111.5 241,-111.5 241,-111.5 330,-111.5 330,-111.5 336,-111.5 342,-117.5 342,-123.5 342,-123.5 342,-167.5 342,-167.5 342,-173.5 336,-179.5 330,-179.5\"/>\n<text text-anchor=\"start\" x=\"238\" y=\"-164.3\" font-family=\"Helvetica,sans-Serif\" font-size=\"14.00\" fill=\"#000000\">entropy = 0.918</text>\n<text text-anchor=\"start\" x=\"248\" y=\"-149.3\" font-family=\"Helvetica,sans-Serif\" font-size=\"14.00\" fill=\"#000000\">samples = 6</text>\n<text text-anchor=\"start\" x=\"238.5\" y=\"-134.3\" font-family=\"Helvetica,sans-Serif\" font-size=\"14.00\" fill=\"#000000\">value = [0, 2, 4]</text>\n<text text-anchor=\"start\" x=\"237\" y=\"-119.3\" font-family=\"Helvetica,sans-Serif\" font-size=\"14.00\" fill=\"#000000\">class = virginica</text>\n</g>\n<!-- 3&#45;&gt;7 -->\n<g id=\"edge7\" class=\"edge\">\n<title>3&#45;&gt;7</title>\n<path fill=\"none\" stroke=\"#000000\" d=\"M277.697,-222.8796C278.7726,-212.2134 279.9334,-200.7021 281.0225,-189.9015\"/>\n<polygon fill=\"#000000\" stroke=\"#000000\" points=\"284.5186,-190.1157 282.0397,-179.8149 277.5539,-189.4133 284.5186,-190.1157\"/>\n</g>\n<!-- 5 -->\n<g id=\"node6\" class=\"node\">\n<title>5</title>\n<path fill=\"#6aeca0\" stroke=\"#000000\" d=\"M109,-68C109,-68 12,-68 12,-68 6,-68 0,-62 0,-56 0,-56 0,-12 0,-12 0,-6 6,0 12,0 12,0 109,0 109,0 115,0 121,-6 121,-12 121,-12 121,-56 121,-56 121,-62 115,-68 109,-68\"/>\n<text text-anchor=\"start\" x=\"13\" y=\"-52.8\" font-family=\"Helvetica,sans-Serif\" font-size=\"14.00\" fill=\"#000000\">entropy = 0.722</text>\n<text text-anchor=\"start\" x=\"23\" y=\"-37.8\" font-family=\"Helvetica,sans-Serif\" font-size=\"14.00\" fill=\"#000000\">samples = 5</text>\n<text text-anchor=\"start\" x=\"13.5\" y=\"-22.8\" font-family=\"Helvetica,sans-Serif\" font-size=\"14.00\" fill=\"#000000\">value = [0, 4, 1]</text>\n<text text-anchor=\"start\" x=\"8\" y=\"-7.8\" font-family=\"Helvetica,sans-Serif\" font-size=\"14.00\" fill=\"#000000\">class = versicolor</text>\n</g>\n<!-- 4&#45;&gt;5 -->\n<g id=\"edge5\" class=\"edge\">\n<title>4&#45;&gt;5</title>\n<path fill=\"none\" stroke=\"#000000\" d=\"M103.8069,-103.9815C98.3469,-95.1585 92.5716,-85.8258 87.0793,-76.9506\"/>\n<polygon fill=\"#000000\" stroke=\"#000000\" points=\"89.942,-74.9254 81.7035,-68.2637 83.9896,-78.609 89.942,-74.9254\"/>\n</g>\n<!-- 6 -->\n<g id=\"node7\" class=\"node\">\n<title>6</title>\n<path fill=\"#39e581\" stroke=\"#000000\" d=\"M248,-68C248,-68 151,-68 151,-68 145,-68 139,-62 139,-56 139,-56 139,-12 139,-12 139,-6 145,0 151,0 151,0 248,0 248,0 254,0 260,-6 260,-12 260,-12 260,-56 260,-56 260,-62 254,-68 248,-68\"/>\n<text text-anchor=\"start\" x=\"159.5\" y=\"-52.8\" font-family=\"Helvetica,sans-Serif\" font-size=\"14.00\" fill=\"#000000\">entropy = 0.0</text>\n<text text-anchor=\"start\" x=\"158.5\" y=\"-37.8\" font-family=\"Helvetica,sans-Serif\" font-size=\"14.00\" fill=\"#000000\">samples = 43</text>\n<text text-anchor=\"start\" x=\"149\" y=\"-22.8\" font-family=\"Helvetica,sans-Serif\" font-size=\"14.00\" fill=\"#000000\">value = [0, 43, 0]</text>\n<text text-anchor=\"start\" x=\"147\" y=\"-7.8\" font-family=\"Helvetica,sans-Serif\" font-size=\"14.00\" fill=\"#000000\">class = versicolor</text>\n</g>\n<!-- 4&#45;&gt;6 -->\n<g id=\"edge6\" class=\"edge\">\n<title>4&#45;&gt;6</title>\n<path fill=\"none\" stroke=\"#000000\" d=\"M155.5654,-103.9815C161.1045,-95.1585 166.9636,-85.8258 172.5355,-76.9506\"/>\n<polygon fill=\"#000000\" stroke=\"#000000\" points=\"175.6363,-78.594 177.9892,-68.2637 169.7078,-74.872 175.6363,-78.594\"/>\n</g>\n<!-- 9 -->\n<g id=\"node10\" class=\"node\">\n<title>9</title>\n<path fill=\"#9a61ea\" stroke=\"#000000\" d=\"M484,-179.5C484,-179.5 395,-179.5 395,-179.5 389,-179.5 383,-173.5 383,-167.5 383,-167.5 383,-123.5 383,-123.5 383,-117.5 389,-111.5 395,-111.5 395,-111.5 484,-111.5 484,-111.5 490,-111.5 496,-117.5 496,-123.5 496,-123.5 496,-167.5 496,-167.5 496,-173.5 490,-179.5 484,-179.5\"/>\n<text text-anchor=\"start\" x=\"395.5\" y=\"-164.3\" font-family=\"Helvetica,sans-Serif\" font-size=\"14.00\" fill=\"#000000\">entropy = 0.65</text>\n<text text-anchor=\"start\" x=\"402\" y=\"-149.3\" font-family=\"Helvetica,sans-Serif\" font-size=\"14.00\" fill=\"#000000\">samples = 6</text>\n<text text-anchor=\"start\" x=\"392.5\" y=\"-134.3\" font-family=\"Helvetica,sans-Serif\" font-size=\"14.00\" fill=\"#000000\">value = [0, 1, 5]</text>\n<text text-anchor=\"start\" x=\"391\" y=\"-119.3\" font-family=\"Helvetica,sans-Serif\" font-size=\"14.00\" fill=\"#000000\">class = virginica</text>\n</g>\n<!-- 8&#45;&gt;9 -->\n<g id=\"edge9\" class=\"edge\">\n<title>8&#45;&gt;9</title>\n<path fill=\"none\" stroke=\"#000000\" d=\"M447.303,-222.8796C446.2274,-212.2134 445.0666,-200.7021 443.9775,-189.9015\"/>\n<polygon fill=\"#000000\" stroke=\"#000000\" points=\"447.4461,-189.4133 442.9603,-179.8149 440.4814,-190.1157 447.4461,-189.4133\"/>\n</g>\n<!-- 10 -->\n<g id=\"node11\" class=\"node\">\n<title>10</title>\n<path fill=\"#8139e5\" stroke=\"#000000\" d=\"M619,-179.5C619,-179.5 526,-179.5 526,-179.5 520,-179.5 514,-173.5 514,-167.5 514,-167.5 514,-123.5 514,-123.5 514,-117.5 520,-111.5 526,-111.5 526,-111.5 619,-111.5 619,-111.5 625,-111.5 631,-117.5 631,-123.5 631,-123.5 631,-167.5 631,-167.5 631,-173.5 625,-179.5 619,-179.5\"/>\n<text text-anchor=\"start\" x=\"532.5\" y=\"-164.3\" font-family=\"Helvetica,sans-Serif\" font-size=\"14.00\" fill=\"#000000\">entropy = 0.0</text>\n<text text-anchor=\"start\" x=\"531.5\" y=\"-149.3\" font-family=\"Helvetica,sans-Serif\" font-size=\"14.00\" fill=\"#000000\">samples = 40</text>\n<text text-anchor=\"start\" x=\"522\" y=\"-134.3\" font-family=\"Helvetica,sans-Serif\" font-size=\"14.00\" fill=\"#000000\">value = [0, 0, 40]</text>\n<text text-anchor=\"start\" x=\"524\" y=\"-119.3\" font-family=\"Helvetica,sans-Serif\" font-size=\"14.00\" fill=\"#000000\">class = virginica</text>\n</g>\n<!-- 8&#45;&gt;10 -->\n<g id=\"edge10\" class=\"edge\">\n<title>8&#45;&gt;10</title>\n<path fill=\"none\" stroke=\"#000000\" d=\"M493.8199,-222.8796C505.6717,-211.2237 518.5495,-198.5587 530.3891,-186.9148\"/>\n<polygon fill=\"#000000\" stroke=\"#000000\" points=\"532.9327,-189.3223 537.6083,-179.8149 528.0244,-184.3314 532.9327,-189.3223\"/>\n</g>\n</g>\n</svg>\n",
            "text/plain": [
              "<graphviz.files.Source at 0x7f64c923e128>"
            ]
          },
          "execution_count": 28,
          "metadata": {},
          "output_type": "execute_result"
        }
      ],
      "source": [
        "dot_data = tree.export_graphviz(clf, out_file=None, \n",
        "                         feature_names=iris.feature_names, \n",
        "                         class_names=iris.target_names, \n",
        "                         filled=True, rounded=True,  \n",
        "                         special_characters=True)  \n",
        "graph = graphviz.Source(dot_data)  \n",
        "graph\n",
        "#help(tree._tree.Tree)\n",
        "\n",
        "#NODI BIANCHI: ENTROPIA MOLTO ALTA (NON HOMOGENEOUS)\n",
        "#NODI ARANCIONI: SETOSA\n",
        "#NODI VERDI: VERSICOLOR\n",
        "#NODI VIOLA: VIRGINICA\n",
        "\n",
        "#IL COLORE E' PIU DENSO --> L'ENTROPIA E' MINORE"
      ]
    },
    {
      "cell_type": "markdown",
      "metadata": {
        "id": "zzHbGJsTOoQU"
      },
      "source": []
    },
    {
      "cell_type": "markdown",
      "metadata": {
        "id": "90GvIMjgeUue"
      },
      "source": [
        "# Your work: what you have to do\n",
        "Modify the given Jupyter notebook on decision trees on Iris data and perform the following tasks:\n",
        "\n",
        "1. get an artificial inflation of some class in the training set by a given factor: 10 (weigh more the classes virginica or versicolor which are more difficult to discriminate). Learn the tree in these conditions.\n",
        "1. b) modify the weight of some classes (set to 10 the weights for misclassification between virginica into versicolor or vice versa) and learn the tree in these conditions. You should obtain similar results as for step 1.\n",
        "2. learn trees but try to avoid overfitting (by improving the error on the test set) tuning the hyper-parameters on: the minimum number of samples per leaf, max depth of the tree, min_impurity_decrease parameters, max leaf nodes, etc.\n",
        "3. build the confusion matrix of the created tree models on the test set and show them. \n",
        "4. build the ROC curves (or coverage curves in coverage space) and plot them for each tree model you have created: for each model you have to build three curves, one for each class, considered in turn as the positive class."
      ]
    },
    {
      "cell_type": "markdown",
      "metadata": {},
      "source": [
        "## 1. Artificial Inflaction\n",
        "\n",
        "Get an artificial inflation of some class in the training set by a given factor: 10 (weigh more the classes virginica e versicolor which are more difficult to discriminate). Learn the tree in these conditions.\n",
        "    1.b) modify the weight of some classes (set to 10 the weights for misclassification between virginica into versicolor and vice              versa) and learn the tree in these conditions. You should obtain similar results as for step 1.\n",
        "\n",
        "Artificial inflation: tecnica che consiste nell’aumentare le istanze di una classe dentro\n",
        "una foglia per coprire la differenza di costi (tipo moltiplicare per 10 il numero di classi\n",
        "positive)"
      ]
    },
    {
      "cell_type": "code",
      "execution_count": 2,
      "metadata": {},
      "outputs": [],
      "source": [
        "TESTSET_SIZE = 20\n",
        "INFLATION_FACTOR = 20   #1A\n",
        "WEIGHT_FACTOR = 20      #1B\n",
        "AVG = 'macro'"
      ]
    },
    {
      "cell_type": "code",
      "execution_count": 3,
      "metadata": {},
      "outputs": [
        {
          "name": "stdout",
          "output_type": "stream",
          "text": [
            "0 --> setosa\n",
            "1 --> versicolor\n",
            "2 --> virginica\n",
            "TRAINING SET SHAPE: X (130, 4) y (130,)\n",
            "TRAINING SET SHAPE (WITH INFLATION x20): X (1850, 4) y (1850,)\n",
            "TEST SET SIZE: 20\n",
            "Predictions on test set:\n",
            "[2 2 1 2 0 1 2 2 0 1 1 2 1 0 0 0 2 1 2 0] (1A)\n",
            "[2 2 1 2 0 1 2 2 0 1 1 2 1 0 0 0 2 1 2 0] (1B)\n",
            "True classes:\n",
            "[2 2 1 1 0 1 2 2 0 1 1 1 1 0 0 0 2 1 2 0]\n",
            "Errors (1A):\n",
            "[0 0 0 1 0 0 0 0 0 0 0 1 0 0 0 0 0 0 0 0]\n",
            "Errors (1B):\n",
            "[0 0 0 1 0 0 0 0 0 0 0 1 0 0 0 0 0 0 0 0]\n",
            "Accuracy score (1A):  0.9\n",
            "Accuracy score (1B):  0.9\n",
            "F1 score (1A) (macro):  0.9047619047619048\n",
            "F1 score (1B) (macro):  0.9047619047619048\n"
          ]
        }
      ],
      "source": [
        "from sklearn import tree \n",
        "from sklearn.datasets import load_iris\n",
        "from sklearn.metrics import accuracy_score, f1_score\n",
        "import numpy as np\n",
        "\n",
        "# creo il classificatore (1a)\n",
        "clf_1a = tree.DecisionTreeClassifier(criterion=\"entropy\",random_state=300,min_samples_leaf=5,class_weight={0:1,1:1,2:1}) \n",
        "# creo il classificatore (1b) coi pesi ricalibrati per versicolor, virginica\n",
        "clf_1b = tree.DecisionTreeClassifier(criterion=\"entropy\",random_state=300,min_samples_leaf=5,class_weight={0:1,1:WEIGHT_FACTOR,2:WEIGHT_FACTOR}) \n",
        "                                                                                                        #0:setosa, 1:versicolor, 2:virginica\n",
        "\n",
        "# creo il dataset\n",
        "iris = load_iris()\n",
        "X = iris.data\n",
        "y = iris.target\n",
        "for i, n in enumerate(iris.target_names):\n",
        "    print(i, \"-->\", n)\n",
        "\n",
        "# divido in trainingset e testset con random permutation, (1a) effettuo art.inflation sul training set x10 per versicolor, virginica\n",
        "np.random.seed(0)\n",
        "indices = np.random.permutation(len(X))\n",
        "indices_train = indices[:-TESTSET_SIZE]\n",
        "indices_test = indices[-TESTSET_SIZE:]\n",
        "X_train = X[indices_train]\n",
        "y_train = y[indices_train]\n",
        "X_test  = X[indices_test]\n",
        "y_test  = y[indices_test]\n",
        "X_train_inflated = X_train\n",
        "y_train_inflated = y_train\n",
        "for i in range(len(X_train)):\n",
        "    if y_train[i] == 1 or y_train[i] == 2:\n",
        "        for j in range(INFLATION_FACTOR):\n",
        "            X_train_inflated = np.append(X_train_inflated, [X_train[i]], 0)\n",
        "            y_train_inflated = np.append(y_train_inflated, [y_train[i]], 0)\n",
        "print(\"TRAINING SET SHAPE: X\", X_train.shape, \"y\", y_train.shape)\n",
        "print(\"TRAINING SET SHAPE (WITH INFLATION x\"+str(INFLATION_FACTOR)+\"): X\", X_train_inflated.shape, \"y\", y_train_inflated.shape)\n",
        "print(\"TEST SET SIZE:\", TESTSET_SIZE)\n",
        "\n",
        "# apprendimento su trainingset\n",
        "clf_1a.fit(X_train_inflated, y_train_inflated)\n",
        "clf_1b.fit(X_train, y_train)\n",
        "\n",
        "# evaluation su testset\n",
        "y_test_pred_1a = clf_1a.predict(X_test)\n",
        "y_test_pred_1b = clf_1b.predict(X_test)\n",
        "print(\"Predictions on test set:\")\n",
        "print(y_test_pred_1a, \"(1A)\")\n",
        "print(y_test_pred_1b, \"(1B)\")\n",
        "print(\"True classes:\")\n",
        "print(y_test) \n",
        "print(\"Errors (1A):\")\n",
        "print(np.array([0 if a==b else 1 for (a,b) in list(zip(y_test_pred_1a,y_test))]))\n",
        "print(\"Errors (1B):\")\n",
        "print(np.array([0 if a==b else 1 for (a,b) in list(zip(y_test_pred_1b,y_test))]))\n",
        "\n",
        "# accuracy e f1 score\n",
        "acc_score_1a = accuracy_score(y_test, y_test_pred_1a)\n",
        "acc_score_1b = accuracy_score(y_test, y_test_pred_1b)\n",
        "print(\"Accuracy score (1A): \", acc_score_1a)\n",
        "print(\"Accuracy score (1B): \", acc_score_1b)\n",
        "f1_score_1a = f1_score(y_test, y_test_pred_1a, average=AVG)\n",
        "f1_score_1b = f1_score(y_test, y_test_pred_1b, average=AVG)\n",
        "print(\"F1 score (1A) (\"+AVG+\"): \", f1_score_1a)\n",
        "print(\"F1 score (1B) (\"+AVG+\"): \", f1_score_1b)"
      ]
    },
    {
      "cell_type": "markdown",
      "metadata": {},
      "source": [
        "## 2, 3. TUNE HYPER PARAMETERS TO PRODUCE DIFFERENT CLFs, BUILD CONFUSION MATRIXES\n",
        "\n",
        "- Learn trees but try to avoid overfitting (by improving the error on the test set) tuning the hyper-parameters on: the minimum number of samples per leaf, max depth of the tree, min_impurity_decrease parameters, max leaf nodes, etc.\n",
        "- Build the confusion matrix of the created tree models on the test set and show them. "
      ]
    },
    {
      "cell_type": "code",
      "execution_count": 4,
      "metadata": {},
      "outputs": [],
      "source": [
        "WEIGHT_FACTOR_SETOSA = 1\n",
        "WEIGHT_FACTOR_VERSICOLOR = 10\n",
        "WEIGHT_FACTOR_VIRGINICA = 10\n",
        "MIN_SAMPLES_LEAF = 5\n",
        "MAX_LEAVES = 10\n",
        "MAX_DEPTH = 10\n",
        "MIN_IMPURITY = 0\n",
        "CRITERION = 'entropy' #'gini'\n",
        "AVG = 'macro'"
      ]
    },
    {
      "cell_type": "code",
      "execution_count": 6,
      "metadata": {},
      "outputs": [
        {
          "name": "stdout",
          "output_type": "stream",
          "text": [
            "Predictions on test set:\n",
            "[2 2 1 2 0 1 2 2 0 1 1 2 1 0 0 0 2 1 2 0] (2)\n",
            "True classes:\n",
            "[2 2 1 1 0 1 2 2 0 1 1 1 1 0 0 0 2 1 2 0]\n",
            "Errors (2):\n",
            "[0 0 0 1 0 0 0 0 0 0 0 1 0 0 0 0 0 0 0 0]\n",
            "Accuracy score (2):  0.9\n",
            "F1 score (2) (macro):  0.9047619047619048\n"
          ]
        },
        {
          "data": {
            "image/png": "[encoded data removed]",
            "text/plain": [
              "<Figure size 432x288 with 2 Axes>"
            ]
          },
          "metadata": {
            "needs_background": "light"
          },
          "output_type": "display_data"
        },
        {
          "data": {
            "image/png": "[encoded data removed]",
            "text/plain": [
              "<Figure size 432x288 with 2 Axes>"
            ]
          },
          "metadata": {
            "needs_background": "light"
          },
          "output_type": "display_data"
        },
        {
          "data": {
            "image/png": "[encoded data removed]",
            "text/plain": [
              "<Figure size 432x288 with 2 Axes>"
            ]
          },
          "metadata": {
            "needs_background": "light"
          },
          "output_type": "display_data"
        }
      ],
      "source": [
        "from sklearn.metrics import confusion_matrix\n",
        "import matplotlib.pyplot as plt\n",
        "import itertools\n",
        "\n",
        "# confusion matrix function\n",
        "def draw_confusion_matrix(class_names,y_test,y_test_pred,clf_label):\n",
        "    cf = confusion_matrix(y_test,y_test_pred)\n",
        "    plt.figure()\n",
        "    plt.imshow(cf, cmap=plt.cm.Blues)\n",
        "    plt.title(\"Confusion Matrix \\\"\"+clf_label+\"\\\"\")\n",
        "    plt.ylabel(\"True Label\")\n",
        "    plt.xlabel(\"Predicted Label\")\n",
        "    tick_marks = np.arange(len(class_names))\n",
        "    plt.xticks(tick_marks, class_names)\n",
        "    plt.yticks(tick_marks, class_names)\n",
        "    thresh = cf.max() / 2.0\n",
        "    for i, j in itertools.product(range(cf.shape[0]),range(cf.shape[1])):\n",
        "        plt.text(j, i, cf[i, j],horizontalalignment=\"center\",color=\"white\" if cf[i, j] > thresh else \"black\",)\n",
        "    plt.colorbar()\n",
        "    plt.show()\n",
        "\n",
        "#tune hyper parameters to produce different clf\n",
        "clf_2 = tree.DecisionTreeClassifier(criterion=CRITERION,random_state=0,min_samples_leaf=MIN_SAMPLES_LEAF,max_depth=MAX_DEPTH,class_weight={0:WEIGHT_FACTOR_SETOSA,1:WEIGHT_FACTOR_VERSICOLOR,2:WEIGHT_FACTOR_VIRGINICA},max_leaf_nodes=MAX_LEAVES,min_impurity_decrease=MIN_IMPURITY) \n",
        "\n",
        "# apprendimento su trainingset\n",
        "clf_2.fit(X_train, y_train)\n",
        "\n",
        "# evaluation su testset\n",
        "y_test_pred_2 = clf_2.predict(X_test)\n",
        "print(\"Predictions on test set:\")\n",
        "print(y_test_pred_2, \"(2)\")\n",
        "print(\"True classes:\")\n",
        "print(y_test)\n",
        "print(\"Errors (2):\")\n",
        "print(np.array([0 if a==b else 1 for (a,b) in list(zip(y_test_pred_2,y_test))]))\n",
        "\n",
        "# accuracy e f1 score\n",
        "acc_score_2 = accuracy_score(y_test, y_test_pred_2)\n",
        "print(\"Accuracy score (2): \", acc_score_2)\n",
        "f1_score_2 = f1_score(y_test, y_test_pred_2, average=AVG)\n",
        "print(\"F1 score (2) (\"+AVG+\"): \", f1_score_2)\n",
        "\n",
        "# draw matrixes of all the models\n",
        "class_names = iris.target_names\n",
        "draw_confusion_matrix(class_names,y_test,y_test_pred_1a,\"1A\")\n",
        "draw_confusion_matrix(class_names,y_test,y_test_pred_1b,\"1B\")\n",
        "draw_confusion_matrix(class_names,y_test,y_test_pred_2,\"2\")\n"
      ]
    },
    {
      "cell_type": "markdown",
      "metadata": {},
      "source": [
        "## 4. Build ROC Curves\n",
        "\n",
        "Build the ROC curves (or coverage curves in coverage space) and plot them for each tree model you have created: for each model you have to build three curves, one for each class, considered in turn as the positive class."
      ]
    },
    {
      "cell_type": "code",
      "execution_count": 7,
      "metadata": {},
      "outputs": [
        {
          "name": "stdout",
          "output_type": "stream",
          "text": [
            "Predictions on test set: \t\t [2 2 1 2 0 1 2 2 0 1 1 2 1 0 0 0 2 1 2 0] (1A)\n",
            "True classes:\t\t\t\t [2 2 1 1 0 1 2 2 0 1 1 1 1 0 0 0 2 1 2 0]\n",
            "Errors (1A):\t\t\t\t [0 0 0 1 0 0 0 0 0 0 0 1 0 0 0 0 0 0 0 0]\n",
            "\n",
            "\n",
            "Predictions on test set - SETOSA :\t [0 0 0 0 1 0 0 0 1 0 0 0 0 1 1 1 0 0 0 1] (1A)\n",
            "True classes - SETOSA:\t\t\t [0 0 0 0 1 0 0 0 1 0 0 0 0 1 1 1 0 0 0 1]\n",
            "Errors (1A):\t\t\t\t [0 0 0 0 0 0 0 0 0 0 0 0 0 0 0 0 0 0 0 0]\n",
            "\n",
            "Predictions on test set - VERSICOLOR :\t [0 0 1 0 0 1 0 0 0 1 1 0 1 0 0 0 0 1 0 0] (1A)\n",
            "True classes - VERSICOLOR:\t\t [0 0 1 1 0 1 0 0 0 1 1 1 1 0 0 0 0 1 0 0]\n",
            "Errors (1A):\t\t\t\t [0 0 0 1 0 0 0 0 0 0 0 1 0 0 0 0 0 0 0 0]\n",
            "\n",
            "Predictions on test set - VIRGINICA :\t [1 1 0 1 0 0 1 1 0 0 0 1 0 0 0 0 1 0 1 0] (1A)\n",
            "True classes - VIRGINICA:\t\t [1 1 0 0 0 0 1 1 0 0 0 0 0 0 0 0 1 0 1 0]\n",
            "Errors (1A):\t\t\t\t [0 0 0 1 0 0 0 0 0 0 0 1 0 0 0 0 0 0 0 0]\n"
          ]
        },
        {
          "data": {
            "image/png": "[encoded data removed]",
            "text/plain": [
              "<Figure size 432x288 with 1 Axes>"
            ]
          },
          "metadata": {
            "needs_background": "light"
          },
          "output_type": "display_data"
        },
        {
          "name": "stdout",
          "output_type": "stream",
          "text": [
            "Predictions on test set: \t\t [2 2 1 2 0 1 2 2 0 1 1 2 1 0 0 0 2 1 2 0] (1B)\n",
            "True classes:\t\t\t\t [2 2 1 1 0 1 2 2 0 1 1 1 1 0 0 0 2 1 2 0]\n",
            "Errors (1B):\t\t\t\t [0 0 0 1 0 0 0 0 0 0 0 1 0 0 0 0 0 0 0 0]\n",
            "\n",
            "\n",
            "Predictions on test set - SETOSA :\t [0 0 0 0 1 0 0 0 1 0 0 0 0 1 1 1 0 0 0 1] (1B)\n",
            "True classes - SETOSA:\t\t\t [0 0 0 0 1 0 0 0 1 0 0 0 0 1 1 1 0 0 0 1]\n",
            "Errors (1B):\t\t\t\t [0 0 0 0 0 0 0 0 0 0 0 0 0 0 0 0 0 0 0 0]\n",
            "\n",
            "Predictions on test set - VERSICOLOR :\t [0 0 1 0 0 1 0 0 0 1 1 0 1 0 0 0 0 1 0 0] (1B)\n",
            "True classes - VERSICOLOR:\t\t [0 0 1 1 0 1 0 0 0 1 1 1 1 0 0 0 0 1 0 0]\n",
            "Errors (1B):\t\t\t\t [0 0 0 1 0 0 0 0 0 0 0 1 0 0 0 0 0 0 0 0]\n",
            "\n",
            "Predictions on test set - VIRGINICA :\t [1 1 0 1 0 0 1 1 0 0 0 1 0 0 0 0 1 0 1 0] (1B)\n",
            "True classes - VIRGINICA:\t\t [1 1 0 0 0 0 1 1 0 0 0 0 0 0 0 0 1 0 1 0]\n",
            "Errors (1B):\t\t\t\t [0 0 0 1 0 0 0 0 0 0 0 1 0 0 0 0 0 0 0 0]\n"
          ]
        },
        {
          "data": {
            "image/png": "[encoded data removed]",
            "text/plain": [
              "<Figure size 432x288 with 1 Axes>"
            ]
          },
          "metadata": {
            "needs_background": "light"
          },
          "output_type": "display_data"
        },
        {
          "name": "stdout",
          "output_type": "stream",
          "text": [
            "Predictions on test set: \t\t [2 2 1 2 0 1 2 2 0 1 1 2 1 0 0 0 2 1 2 0] (2)\n",
            "True classes:\t\t\t\t [2 2 1 1 0 1 2 2 0 1 1 1 1 0 0 0 2 1 2 0]\n",
            "Errors (2):\t\t\t\t [0 0 0 1 0 0 0 0 0 0 0 1 0 0 0 0 0 0 0 0]\n",
            "\n",
            "\n",
            "Predictions on test set - SETOSA :\t [0 0 0 0 1 0 0 0 1 0 0 0 0 1 1 1 0 0 0 1] (2)\n",
            "True classes - SETOSA:\t\t\t [0 0 0 0 1 0 0 0 1 0 0 0 0 1 1 1 0 0 0 1]\n",
            "Errors (2):\t\t\t\t [0 0 0 0 0 0 0 0 0 0 0 0 0 0 0 0 0 0 0 0]\n",
            "\n",
            "Predictions on test set - VERSICOLOR :\t [0 0 1 0 0 1 0 0 0 1 1 0 1 0 0 0 0 1 0 0] (2)\n",
            "True classes - VERSICOLOR:\t\t [0 0 1 1 0 1 0 0 0 1 1 1 1 0 0 0 0 1 0 0]\n",
            "Errors (2):\t\t\t\t [0 0 0 1 0 0 0 0 0 0 0 1 0 0 0 0 0 0 0 0]\n",
            "\n",
            "Predictions on test set - VIRGINICA :\t [1 1 0 1 0 0 1 1 0 0 0 1 0 0 0 0 1 0 1 0] (2)\n",
            "True classes - VIRGINICA:\t\t [1 1 0 0 0 0 1 1 0 0 0 0 0 0 0 0 1 0 1 0]\n",
            "Errors (2):\t\t\t\t [0 0 0 1 0 0 0 0 0 0 0 1 0 0 0 0 0 0 0 0]\n"
          ]
        },
        {
          "data": {
            "image/png": "[encoded data removed]",
            "text/plain": [
              "<Figure size 432x288 with 1 Axes>"
            ]
          },
          "metadata": {
            "needs_background": "light"
          },
          "output_type": "display_data"
        }
      ],
      "source": [
        "import matplotlib.pyplot as plt\n",
        "from itertools import cycle\n",
        "from sklearn.metrics import roc_curve, auc,roc_auc_score\n",
        "from sklearn.model_selection import train_test_split\n",
        "from sklearn.preprocessing import label_binarize\n",
        "\n",
        "def bin_convert(y,positive_label):\n",
        "    return np.where(y==positive_label,1,0)\n",
        "\n",
        "def draw_3_roc_curves(y_test_setosa,predicted_y_test_setosa,y_test_versicolor,predicted_y_test_versicolor,y_test_virginica,predicted_y_test_virginica,name):\n",
        "    plt.figure()\n",
        "    fpr, tpr, _ = roc_curve(y_test_setosa, predicted_y_test_setosa)\n",
        "    roc_auc = auc(fpr, tpr)\n",
        "    plt.plot(fpr, tpr, label=\"Setosa (area = %0.2f)\" % roc_auc)\n",
        "    fpr, tpr, _ = roc_curve(y_test_versicolor, predicted_y_test_versicolor)\n",
        "    roc_auc = auc(fpr, tpr)\n",
        "    plt.plot(fpr, tpr, label=\"Versicolor (area = %0.2f)\" % roc_auc)\n",
        "    fpr, tpr, _ = roc_curve(y_test_virginica, predicted_y_test_virginica)\n",
        "    roc_auc = auc(fpr, tpr)\n",
        "    plt.plot(fpr, tpr, label=\"Virginica (area = %0.2f)\" % roc_auc)\n",
        "    plt.plot([0, 1], [0, 1], \"k\")\n",
        "    plt.xlim([0.0, 1.0])\n",
        "    plt.ylim([0.0, 1.05])\n",
        "    plt.xlabel(\"False Positive Rate\")\n",
        "    plt.ylabel(\"True Positive Rate\")\n",
        "    plt.title(\"ROC clf \"+name)\n",
        "    plt.legend(loc=\"lower right\")\n",
        "    plt.show()\n",
        "\n",
        "def build_roc_plot_3_classes_binary(y_test,predicted_y_test,name):\n",
        "    y_test_setosa = bin_convert(y_test,0)\n",
        "    predicted_y_test_setosa = bin_convert(predicted_y_test,0)\n",
        "    y_test_versicolor = bin_convert(y_test,1)\n",
        "    predicted_y_test_versicolor = bin_convert(predicted_y_test,1)\n",
        "    y_test_virginica = bin_convert(y_test,2)\n",
        "    predicted_y_test_virginica = bin_convert(predicted_y_test,2)\n",
        "\n",
        "    print(\"Predictions on test set:\",\"\\t\\t\", predicted_y_test,\"(\"+name+\")\")\n",
        "    print(\"True classes:\\t\\t\\t\\t\", y_test)\n",
        "    print(\"Errors (\"+name+\"):\\t\\t\\t\\t\", np.array([0 if a==b else 1 for (a,b) in list(zip(predicted_y_test,y_test))]))\n",
        "    print()\n",
        "    print()\n",
        "    print(\"Predictions on test set - SETOSA\",\":\\t\", predicted_y_test_setosa,\"(\"+name+\")\")\n",
        "    print(\"True classes - SETOSA:\\t\\t\\t\", y_test_setosa)\n",
        "    print(\"Errors (\"+name+\"):\\t\\t\\t\\t\", np.array([0 if a==b else 1 for (a,b) in list(zip(predicted_y_test_setosa,y_test_setosa))]))\n",
        "    print()\n",
        "    print(\"Predictions on test set - VERSICOLOR\",\":\\t\", predicted_y_test_versicolor,\"(\"+name+\")\")\n",
        "    print(\"True classes - VERSICOLOR:\\t\\t\", y_test_versicolor)\n",
        "    print(\"Errors (\"+name+\"):\\t\\t\\t\\t\", np.array([0 if a==b else 1 for (a,b) in list(zip(predicted_y_test_versicolor,y_test_versicolor))]))\n",
        "    print()\n",
        "    print(\"Predictions on test set - VIRGINICA\",\":\\t\", predicted_y_test_virginica,\"(\"+name+\")\")\n",
        "    print(\"True classes - VIRGINICA:\\t\\t\", y_test_virginica)\n",
        "    print(\"Errors (\"+name+\"):\\t\\t\\t\\t\", np.array([0 if a==b else 1 for (a,b) in list(zip(predicted_y_test_virginica,y_test_virginica))]))\n",
        "\n",
        "    draw_3_roc_curves(y_test_setosa,predicted_y_test_setosa,y_test_versicolor,predicted_y_test_versicolor,y_test_virginica,predicted_y_test_virginica,name)\n",
        "\n",
        "build_roc_plot_3_classes_binary(y_test,y_test_pred_1a,\"1A\")\n",
        "build_roc_plot_3_classes_binary(y_test,y_test_pred_1b,\"1B\")\n",
        "build_roc_plot_3_classes_binary(y_test,y_test_pred_2,\"2\")"
      ]
    }
  ],
  "metadata": {
    "anaconda-cloud": {},
    "colab": {
      "collapsed_sections": [],
      "name": "classification_iris_aa_20_21.ipynb",
      "provenance": []
    },
    "interpreter": {
      "hash": "767d51c1340bd893661ea55ea3124f6de3c7a262a8b4abca0554b478b1e2ff90"
    },
    "kernelspec": {
      "display_name": "Python 3.6.9 64-bit",
      "name": "python3"
    },
    "language_info": {
      "codemirror_mode": {
        "name": "ipython",
        "version": 3
      },
      "file_extension": ".py",
      "mimetype": "text/x-python",
      "name": "python",
      "nbconvert_exporter": "python",
      "pygments_lexer": "ipython3",
      "version": "3.9.7"
    }
  },
  "nbformat": 4,
  "nbformat_minor": 0
}
