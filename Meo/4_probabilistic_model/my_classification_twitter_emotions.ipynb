{
 "cells": [
  {
   "attachments": {},
   "cell_type": "markdown",
   "metadata": {
    "id": "7vWhC1-mMyop"
   },
   "source": [
    "# Classifiers comparison on texts with naive Bayes assumption"
   ]
  },
  {
   "attachments": {},
   "cell_type": "markdown",
   "metadata": {},
   "source": [
    "### Consegna"
   ]
  },
  {
   "attachments": {},
   "cell_type": "markdown",
   "metadata": {},
   "source": [
    "In questo notebook andiamo a confrontare due modeli per la classificazione di dati categorici:\n",
    "\n",
    "1. Multivariate Bernoulli - Non tiene conto della frequenza delle parole all'interno della frase, ma tiene conto della presenza o meno di una parola all'interno della frase\n",
    "\n",
    "\n",
    "2. Multinomial on a dataset - Tiene conto della frequenza delle parole all'interno della frase"
   ]
  },
  {
   "attachments": {},
   "cell_type": "markdown",
   "metadata": {},
   "source": [
    "### Dataset"
   ]
  },
  {
   "attachments": {},
   "cell_type": "markdown",
   "metadata": {},
   "source": [
    "Il dataset è costituito da tweet estrapolati da Twitter, etichettati con `Joy` o con `Sadness` in base al sentimento legato alla frase"
   ]
  },
  {
   "attachments": {},
   "cell_type": "markdown",
   "metadata": {},
   "source": [
    "#### Estraiamo i dati e vediamo come sono organizzati"
   ]
  },
  {
   "attachments": {},
   "cell_type": "markdown",
   "metadata": {},
   "source": [
    "I dati sono organizzati in una matrice sparsa, in modo da salvare ottimizzare lo spazio occupato e il tempo richiesto per esaminarla.\n",
    "\n",
    "E' costituito da 3 *array paralleli* così organizzati:\n",
    "\n",
    "- data[i] = Contiene il valore della cella i-esima, i cui indici sono contenuti in row[i] e col[i]\n",
    "  \n",
    "- row[i] = Contiene l'indice della riga della cella i-esima\n",
    "- col[i] = Contiene l'indice della colonna della cella i-esima"
   ]
  },
  {
   "attachments": {},
   "cell_type": "markdown",
   "metadata": {},
   "source": [
    "Il dataset è in formato csv, ed è già stato pre-processato per la rimozione delle stopword e per la sostituzione degli **elementi interessanti** del documento con un'identificatore numerico.\n",
    "\n",
    "Gli elementi interessanti posso essere parole, emoji o emoticons. Vengono sostituiti con un `element_id` così che ogni volta che viene riutilizzato nel file si sostituisce con l'element_id associato. Quest'ultimo viene utilizzato come indice per la colonna della matrice sparsa, con lo scopo di salvare i dati.\n",
    "\n",
    "Ogni riga nella matrice corrisponde ad il contenuto di un tweet, ed è composta da una lista di coppie di numero `(element_id, frequency)`, seguiti da una stringa `(Joy o Sadness)`"
   ]
  },
  {
   "attachments": {},
   "cell_type": "markdown",
   "metadata": {},
   "source": [
    "Il dataset è composto da 11981 tweet (rows)"
   ]
  },
  {
   "attachments": {},
   "cell_type": "markdown",
   "metadata": {},
   "source": [
    "### Loading Dataset"
   ]
  },
  {
   "attachments": {},
   "cell_type": "markdown",
   "metadata": {},
   "source": [
    "##### Carichiamo i dati all'interno della matrice sparsa"
   ]
  },
  {
   "attachments": {},
   "cell_type": "markdown",
   "metadata": {},
   "source": [
    "Usiamo scipy.sparse per organizzare la matrice sparsa. Per matrice sparsa intendiamo una matrice che ha, per ogni riga, tante colonne quante sono le parole/emoji/emoticons presenti nel documento. Le colonne (parole) che non sono presenti nella riga (frase) sono riempite con 0."
   ]
  },
  {
   "cell_type": "code",
   "execution_count": 41,
   "metadata": {},
   "outputs": [],
   "source": [
    "from time import sleep\n",
    "from numpy import ndarray, zeros\n",
    "import numpy as np\n",
    "import scipy\n",
    "from scipy.sparse import csr_matrix"
   ]
  },
  {
   "cell_type": "code",
   "execution_count": 42,
   "metadata": {},
   "outputs": [],
   "source": [
    "class_labels = [\"Joy\", \"Sadness\"]\n",
    "n_features = 11288 # number of columns in the matrix = number of features (distinct elements in the documents)\n",
    "n_rows = 11981 # number rows of the matrix\n",
    "n_elements = 71474 # number of the existing values in the matrix (not empty, to be loaded in the matrix in a sparse way)\n",
    "\n",
    "#path_training=\"/Users/meo/Documents/Didattica/Laboratorio-15-16-Jupyter/\"\n",
    "path_training=\"/Users/paolobonicco/Projects/ml-uniTo-21-22/Meo/4_probabilistic_model/data/\"\n",
    "file_name=\"joy_sadness6000.txt\""
   ]
  },
  {
   "attachments": {},
   "cell_type": "markdown",
   "metadata": {},
   "source": [
    "Dichiariamo gli array per le righe e le colonne. Le iniziamo a 0, e la lunghezza la fissiamo al numero di possibili elementi all'interno del dataset"
   ]
  },
  {
   "cell_type": "code",
   "execution_count": 43,
   "metadata": {},
   "outputs": [],
   "source": [
    "# declare the row and col arrays with the indexes of the matrix cells (non empty) to be loaded from file\n",
    "# they are needed because the matrix is sparse and we load in the matrix only the elements which are present\n",
    "row = np.empty(n_elements, dtype=int)\n",
    "col = np.empty(n_elements, dtype=int)\n",
    "data = np.empty(n_elements, dtype=int)\n",
    "\n",
    "row_n = 0 # number of current row to be read and managed\n",
    "cur_el = 0 # position in the three arrays: row, col and data\n",
    "twitter_labels = [] # list of class labels (target array - emotions) of the documents (tweet) that will be read from the input file\n",
    "twitter_target=[] # list of 0/1 for class labels"
   ]
  },
  {
   "attachments": {},
   "cell_type": "markdown",
   "metadata": {},
   "source": [
    "Leggiamo il file e riepiamo la matrice sparsa. Il file è composto da tante righe, ogni riga contiene un tweet e la label associata a quel tweet. Il tweet è rappresentato da una lista di numeri, i numeri sono da leggere come coppie. Il primo numero rappresenta l'element_id, il secondo numero rappresenta la frequenza con cui l'elemento è presente nel tweet."
   ]
  },
  {
   "attachments": {},
   "cell_type": "markdown",
   "metadata": {},
   "source": [
    "Vediamo un esempio:"
   ]
  },
  {
   "cell_type": "code",
   "execution_count": 44,
   "metadata": {},
   "outputs": [
    {
     "name": "stdout",
     "output_type": "stream",
     "text": [
      "2,1,105,2,1174,1,1322,1,7762,1,Sadness\n",
      "\n"
     ]
    }
   ],
   "source": [
    "with open(path_training + file_name, \"r\") as fi:\n",
    "    elements = []\n",
    "    for line in fi:\n",
    "        elements.append(line)\n",
    "        \n",
    "print(elements[len(elements)-1])"
   ]
  },
  {
   "cell_type": "code",
   "execution_count": 45,
   "metadata": {},
   "outputs": [
    {
     "data": {
      "text/plain": [
       "<function TextIOWrapper.close()>"
      ]
     },
     "execution_count": 45,
     "metadata": {},
     "output_type": "execute_result"
    }
   ],
   "source": [
    "with open(path_training + file_name, \"r\") as fi:\n",
    "    for line in fi:\n",
    "        el_list = line.split(',')  # list of integers read from a row of the file\n",
    "        l = len(el_list) # number of words in the tweet\n",
    "        \n",
    "        last_el = el_list[l-1] # Last item -> Label\n",
    "        class_name = last_el.strip() # eliminate the '\\n'\n",
    "        twitter_labels.append(class_name)\n",
    "        \n",
    "        # twitter_labels contains the labels (Joy/Sadness); twitter_target contains 0/1 for the respective labels\n",
    "        if (class_name == class_labels[0]):\n",
    "           twitter_target.append(0) # JOY\n",
    "        else:\n",
    "           twitter_target.append(1) # SADNESS\n",
    "           \n",
    "        i = 0 # I start reading all the doc elements from the beginning of the list\n",
    "        \n",
    "        #? In this while we iterate each element of the row (words in the tweet)\n",
    "        while(i < (l-1)):\n",
    "            element_id = int(el_list[i]) # identifier of the element in the document equivalent to the column index\n",
    "            element_id = element_id - 1 # the index starts from 0 (the read id starts from 1)\n",
    "            i = i + 1\n",
    "            value_cell = int(el_list[i]) # make access to the following value in the file which is the count of the element in the document\n",
    "            i = i + 1\n",
    "            \n",
    "            #! Da capire fino in fondo\n",
    "            \n",
    "            row[cur_el] = row_n # load the data in the three arrays: the first two are the row and col indexes; the last one is the matrix cell value\n",
    "            col[cur_el] = element_id\n",
    "            data[cur_el] = value_cell\n",
    "            cur_el = cur_el + 1\n",
    "        row_n = row_n + 1\n",
    "fi.close"
   ]
  },
  {
   "attachments": {},
   "cell_type": "markdown",
   "metadata": {},
   "source": [
    "E stampiamo la matrice sparsa ottenuta"
   ]
  },
  {
   "cell_type": "code",
   "execution_count": 46,
   "metadata": {
    "colab": {
     "base_uri": "https://localhost:8080/"
    },
    "id": "rMyi3U-ZMyop",
    "outputId": "39724efe-040d-470e-dd16-6ccf319e797a"
   },
   "outputs": [
    {
     "name": "stdout",
     "output_type": "stream",
     "text": [
      "final n_row = [         0          0          0 ... 4435709600 4435709472 4435709280]\n"
     ]
    },
    {
     "ename": "ValueError",
     "evalue": "row index exceeds matrix dimensions",
     "output_type": "error",
     "traceback": [
      "\u001b[0;31m---------------------------------------------------------------------------\u001b[0m",
      "\u001b[0;31mValueError\u001b[0m                                Traceback (most recent call last)",
      "\u001b[1;32m/Users/paolobonicco/Projects/ml-uniTo-21-22/Meo/4_probabilistic_model/my_classification_twitter_emotions.ipynb Cell 23\u001b[0m in \u001b[0;36m<cell line: 4>\u001b[0;34m()\u001b[0m\n\u001b[1;32m      <a href='vscode-notebook-cell:/Users/paolobonicco/Projects/ml-uniTo-21-22/Meo/4_probabilistic_model/my_classification_twitter_emotions.ipynb#X31sZmlsZQ%3D%3D?line=0'>1</a>\u001b[0m \u001b[39mprint\u001b[39m(\u001b[39m\"\u001b[39m\u001b[39mfinal n_row = \u001b[39m\u001b[39m\"\u001b[39m \u001b[39m+\u001b[39m \u001b[39mstr\u001b[39m(row))\n\u001b[1;32m      <a href='vscode-notebook-cell:/Users/paolobonicco/Projects/ml-uniTo-21-22/Meo/4_probabilistic_model/my_classification_twitter_emotions.ipynb#X31sZmlsZQ%3D%3D?line=2'>3</a>\u001b[0m \u001b[39m# loads the matrix by means of the indexes and the values in the three arrays just filled\u001b[39;00m\n\u001b[0;32m----> <a href='vscode-notebook-cell:/Users/paolobonicco/Projects/ml-uniTo-21-22/Meo/4_probabilistic_model/my_classification_twitter_emotions.ipynb#X31sZmlsZQ%3D%3D?line=3'>4</a>\u001b[0m twitter_data \u001b[39m=\u001b[39m csr_matrix((data, (row, col)), shape\u001b[39m=\u001b[39;49m(n_rows, n_features))\u001b[39m.\u001b[39mtoarray()\n\u001b[1;32m      <a href='vscode-notebook-cell:/Users/paolobonicco/Projects/ml-uniTo-21-22/Meo/4_probabilistic_model/my_classification_twitter_emotions.ipynb#X31sZmlsZQ%3D%3D?line=5'>6</a>\u001b[0m \u001b[39mprint\u001b[39m(\u001b[39m\"\u001b[39m\u001b[39mresulting matrix: \u001b[39m\u001b[39m\"\u001b[39m \u001b[39m+\u001b[39m \u001b[39mstr\u001b[39m(twitter_data[\u001b[39m0\u001b[39m]))\n\u001b[1;32m      <a href='vscode-notebook-cell:/Users/paolobonicco/Projects/ml-uniTo-21-22/Meo/4_probabilistic_model/my_classification_twitter_emotions.ipynb#X31sZmlsZQ%3D%3D?line=7'>8</a>\u001b[0m \u001b[39mprint\u001b[39m(twitter_data[\u001b[39m0\u001b[39m:\u001b[39m10\u001b[39m])\n",
      "File \u001b[0;32m~/Projects/ml-uniTo-21-22/venvml/lib/python3.9/site-packages/scipy/sparse/_compressed.py:53\u001b[0m, in \u001b[0;36m_cs_matrix.__init__\u001b[0;34m(self, arg1, shape, dtype, copy)\u001b[0m\n\u001b[1;32m     49\u001b[0m \u001b[39melse\u001b[39;00m:\n\u001b[1;32m     50\u001b[0m     \u001b[39mif\u001b[39;00m \u001b[39mlen\u001b[39m(arg1) \u001b[39m==\u001b[39m \u001b[39m2\u001b[39m:\n\u001b[1;32m     51\u001b[0m         \u001b[39m# (data, ij) format\u001b[39;00m\n\u001b[1;32m     52\u001b[0m         other \u001b[39m=\u001b[39m \u001b[39mself\u001b[39m\u001b[39m.\u001b[39m\u001b[39m__class__\u001b[39m(\n\u001b[0;32m---> 53\u001b[0m             \u001b[39mself\u001b[39;49m\u001b[39m.\u001b[39;49m_coo_container(arg1, shape\u001b[39m=\u001b[39;49mshape, dtype\u001b[39m=\u001b[39;49mdtype)\n\u001b[1;32m     54\u001b[0m         )\n\u001b[1;32m     55\u001b[0m         \u001b[39mself\u001b[39m\u001b[39m.\u001b[39m_set_self(other)\n\u001b[1;32m     56\u001b[0m     \u001b[39melif\u001b[39;00m \u001b[39mlen\u001b[39m(arg1) \u001b[39m==\u001b[39m \u001b[39m3\u001b[39m:\n\u001b[1;32m     57\u001b[0m         \u001b[39m# (data, indices, indptr) format\u001b[39;00m\n",
      "File \u001b[0;32m~/Projects/ml-uniTo-21-22/venvml/lib/python3.9/site-packages/scipy/sparse/_coo.py:196\u001b[0m, in \u001b[0;36mcoo_matrix.__init__\u001b[0;34m(self, arg1, shape, dtype, copy)\u001b[0m\n\u001b[1;32m    193\u001b[0m \u001b[39mif\u001b[39;00m dtype \u001b[39mis\u001b[39;00m \u001b[39mnot\u001b[39;00m \u001b[39mNone\u001b[39;00m:\n\u001b[1;32m    194\u001b[0m     \u001b[39mself\u001b[39m\u001b[39m.\u001b[39mdata \u001b[39m=\u001b[39m \u001b[39mself\u001b[39m\u001b[39m.\u001b[39mdata\u001b[39m.\u001b[39mastype(dtype, copy\u001b[39m=\u001b[39m\u001b[39mFalse\u001b[39;00m)\n\u001b[0;32m--> 196\u001b[0m \u001b[39mself\u001b[39;49m\u001b[39m.\u001b[39;49m_check()\n",
      "File \u001b[0;32m~/Projects/ml-uniTo-21-22/venvml/lib/python3.9/site-packages/scipy/sparse/_coo.py:283\u001b[0m, in \u001b[0;36mcoo_matrix._check\u001b[0;34m(self)\u001b[0m\n\u001b[1;32m    281\u001b[0m \u001b[39mif\u001b[39;00m \u001b[39mself\u001b[39m\u001b[39m.\u001b[39mnnz \u001b[39m>\u001b[39m \u001b[39m0\u001b[39m:\n\u001b[1;32m    282\u001b[0m     \u001b[39mif\u001b[39;00m \u001b[39mself\u001b[39m\u001b[39m.\u001b[39mrow\u001b[39m.\u001b[39mmax() \u001b[39m>\u001b[39m\u001b[39m=\u001b[39m \u001b[39mself\u001b[39m\u001b[39m.\u001b[39mshape[\u001b[39m0\u001b[39m]:\n\u001b[0;32m--> 283\u001b[0m         \u001b[39mraise\u001b[39;00m \u001b[39mValueError\u001b[39;00m(\u001b[39m'\u001b[39m\u001b[39mrow index exceeds matrix dimensions\u001b[39m\u001b[39m'\u001b[39m)\n\u001b[1;32m    284\u001b[0m     \u001b[39mif\u001b[39;00m \u001b[39mself\u001b[39m\u001b[39m.\u001b[39mcol\u001b[39m.\u001b[39mmax() \u001b[39m>\u001b[39m\u001b[39m=\u001b[39m \u001b[39mself\u001b[39m\u001b[39m.\u001b[39mshape[\u001b[39m1\u001b[39m]:\n\u001b[1;32m    285\u001b[0m         \u001b[39mraise\u001b[39;00m \u001b[39mValueError\u001b[39;00m(\u001b[39m'\u001b[39m\u001b[39mcolumn index exceeds matrix dimensions\u001b[39m\u001b[39m'\u001b[39m)\n",
      "\u001b[0;31mValueError\u001b[0m: row index exceeds matrix dimensions"
     ]
    }
   ],
   "source": [
    "print(\"final n_row = \" + str(row))\n",
    "\n",
    "# loads the matrix by means of the indexes and the values in the three arrays just filled\n",
    "twitter_data = csr_matrix((data, (row, col)), shape=(n_rows, n_features)).toarray()\n",
    "\n",
    "print(\"resulting matrix: \" + str(twitter_data[0]))\n",
    "\n",
    "print(twitter_data[0:10])\n",
    "\n",
    "# print(twitter_data[0:10])\n",
    "# print(twitter_labels[0:5],twitter_labels[-5:])\n",
    "# print(twitter_target[0:5],twitter_target[-5:])\n",
    "# print(row[0:10])\n",
    "# print(twitter_data[0])"
   ]
  },
  {
   "attachments": {},
   "cell_type": "markdown",
   "metadata": {},
   "source": [
    "##### Stampiamo alcuni tweet"
   ]
  },
  {
   "cell_type": "code",
   "execution_count": null,
   "metadata": {},
   "outputs": [
    {
     "name": "stdout",
     "output_type": "stream",
     "text": [
      "0 :  1,1,2,1,3,1,4,1,Joy\n",
      "\n",
      "1 :  5,1,6,1,7,1,8,1,9,1,10,1,11,1,12,1,Joy\n",
      "\n",
      "2 :  13,1,14,1,15,1,16,1,17,1,18,1,19,1,20,1,21,1,22,1,Joy\n",
      "\n",
      "3 :  20,1,23,1,24,1,25,1,26,1,27,1,28,1,29,1,30,1,31,1,32,1,33,1,Joy\n",
      "\n",
      "4 :  23,1,34,1,35,1,36,1,37,2,Joy\n",
      "\n",
      "5 :  31,1,38,5,39,1,40,1,41,1,42,1,43,1,44,1,45,1,Joy\n",
      "\n",
      "6 :  23,1,46,1,47,1,Joy\n",
      "\n",
      "7 :  23,1,48,1,49,1,Joy\n",
      "\n",
      "8 :  50,1,51,1,52,1,53,1,54,1,55,1,56,1,Joy\n",
      "\n",
      "9 :  23,1,57,1,58,2,59,1,60,1,61,1,62,1,Joy\n",
      "\n"
     ]
    }
   ],
   "source": [
    "for i in range(10):\n",
    "    print(i, \": \", elements[i])\n"
   ]
  },
  {
   "attachments": {},
   "cell_type": "markdown",
   "metadata": {},
   "source": [
    "##### Stampiamo alcuni dati sui tweet"
   ]
  },
  {
   "attachments": {},
   "cell_type": "markdown",
   "metadata": {},
   "source": [
    "twitter_data --> Matrice sparsa\n",
    "\n",
    "enumerate -> Associa un numero ad ogni elemento di una matrice ( [x, y, z] -> [(0, x), (1, y), (2, z)] )"
   ]
  },
  {
   "cell_type": "code",
   "execution_count": null,
   "metadata": {},
   "outputs": [],
   "source": [
    "def twitter_info(studied_twitter, twitter_data = twitter_data):\n",
    "    print(\"numero di tweet: \", len(twitter_data))\n",
    "    print(\"numero di feature o parole del dizionario:\", len(twitter_data[studied_twitter]), \"\\n\")\n",
    "\n",
    "    print(twitter_data[studied_twitter])\n",
    "    print(\"numero parole nel twitter {}: {}\\n\".format(studied_twitter, np.sum(twitter_data[studied_twitter])))\n",
    "    \n",
    "    x = [(i,x) for i,x in enumerate(twitter_data[studied_twitter]) if x >= 1]\n",
    "    print(\"Riga della matrice sparsa del tweet 19\", x)\n",
    "    \n",
    "    x = [i for i,x in enumerate(twitter_data[studied_twitter]) if x >= 1]\n",
    "    print(\"Id delle parole che contiene il twitter {}: {}\".format(studied_twitter, x))"
   ]
  },
  {
   "cell_type": "code",
   "execution_count": null,
   "metadata": {},
   "outputs": [
    {
     "name": "stdout",
     "output_type": "stream",
     "text": [
      "tweet n° 19:  38,5,101,1,102,1,103,1,104,1,Joy\n",
      "\n",
      "numero di tweet:  11981\n",
      "numero di feature o parole del dizionario: 11288 \n",
      "\n",
      "[0 0 0 ... 0 0 0]\n",
      "numero parole nel twitter 19: 9\n",
      "\n",
      "Riga della matrice sparsa del tweet 19 [(37, 5), (100, 1), (101, 1), (102, 1), (103, 1)]\n",
      "Id delle parole che contiene il twitter 19: [37, 100, 101, 102, 103]\n"
     ]
    }
   ],
   "source": [
    "studied_twitter = 19\n",
    "\n",
    "print(\"tweet n° 19: \", elements[studied_twitter])\n",
    "\n",
    "twitter_info(studied_twitter)"
   ]
  },
  {
   "attachments": {},
   "cell_type": "markdown",
   "metadata": {},
   "source": [
    "## Classificazione - Esercizio per studenti"
   ]
  },
  {
   "attachments": {},
   "cell_type": "markdown",
   "metadata": {},
   "source": [
    "Splittiamo il dataset in training e testing set in maniera randomica. Dopo di che proviamo a costruire un classificatore che predica la classe (Joy/Sadness) del messaggio in base alle parole. \n",
    "\n",
    "Consideriamo i due modelli possibili:\n",
    "\n",
    "1. Multivariate Bernoulli\n",
    "\n",
    "2. Multinomial Bernoulli -> Tiene conto della frequenza delle parole all'interno della frase\n",
    "\n",
    "Dopo di che andiamo a valutare i modelli ottenuti, andando a calcolare *l'accuracy* e verificare se le differenze osservate sono significative."
   ]
  },
  {
   "attachments": {},
   "cell_type": "markdown",
   "metadata": {},
   "source": [
    "### Multivariate Bernoulli"
   ]
  },
  {
   "attachments": {},
   "cell_type": "markdown",
   "metadata": {},
   "source": [
    "Questo modello è un modello di classificazione binaria, che assume che ogni feature sia indipendente e che la distribuzione di ogni feature sia una Bernoulli.\n",
    "Ciò vuol dire che funziona con feature binarie o booleane."
   ]
  },
  {
   "attachments": {},
   "cell_type": "markdown",
   "metadata": {},
   "source": [
    "#### Split the data"
   ]
  },
  {
   "cell_type": "code",
   "execution_count": null,
   "metadata": {},
   "outputs": [],
   "source": [
    "from sklearn.naive_bayes import BernoulliNB, MultinomialNB\n",
    "from sklearn.model_selection import train_test_split\n",
    "from sklearn import metrics\n",
    "from sklearn.metrics import accuracy_score, plot_roc_curve, RocCurveDisplay\n",
    "\n",
    "import matplotlib.pyplot as plt"
   ]
  },
  {
   "cell_type": "code",
   "execution_count": null,
   "metadata": {},
   "outputs": [],
   "source": [
    "X_train, X_test, y_train, y_test = train_test_split(twitter_data, twitter_target, \n",
    "                                                    test_size = 0.10, random_state = 1)"
   ]
  },
  {
   "attachments": {},
   "cell_type": "markdown",
   "metadata": {},
   "source": [
    "#### Normalize between 0-1 (value >= 1 ? 1 : 0)"
   ]
  },
  {
   "attachments": {},
   "cell_type": "markdown",
   "metadata": {},
   "source": [
    "Serve normalizzare in quanto in questo caso non teniamo conto della frequenza delle parole all'interno della frase ma solo se son presenti o meno, quindi tutti i valori >= 1 vengono trasformati in 1"
   ]
  },
  {
   "cell_type": "code",
   "execution_count": null,
   "metadata": {},
   "outputs": [],
   "source": [
    "X_train_normalize = (X_train >= 1) * 1\n",
    "X_test_normalize = (X_test >= 1) * 1"
   ]
  },
  {
   "attachments": {},
   "cell_type": "markdown",
   "metadata": {},
   "source": [
    "#### Train the model and predict on test"
   ]
  },
  {
   "attachments": {},
   "cell_type": "markdown",
   "metadata": {},
   "source": [
    "- `BernoulliNB().fit()` -> Train the Bernoulli Naive Bayes classifier for multivariate Bernoulli models\n",
    "- `.predict()` -> Predict class labels for samples in X"
   ]
  },
  {
   "cell_type": "code",
   "execution_count": null,
   "metadata": {},
   "outputs": [],
   "source": [
    "bernul_model = BernoulliNB().fit(X = X_train_normalize, y = y_train)\n",
    "bernul_y_pred = bernul_model.predict(X_test_normalize)"
   ]
  },
  {
   "attachments": {},
   "cell_type": "markdown",
   "metadata": {},
   "source": [
    "#### Accuracy"
   ]
  },
  {
   "cell_type": "code",
   "execution_count": null,
   "metadata": {},
   "outputs": [
    {
     "name": "stdout",
     "output_type": "stream",
     "text": [
      "Accuracy:  0.9566305254378649\n"
     ]
    }
   ],
   "source": [
    "print(\"Accuracy: \", accuracy_score(y_test, bernul_y_pred))"
   ]
  },
  {
   "attachments": {},
   "cell_type": "markdown",
   "metadata": {},
   "source": [
    "#### Roc Curve"
   ]
  },
  {
   "cell_type": "code",
   "execution_count": 52,
   "metadata": {},
   "outputs": [
    {
     "name": "stderr",
     "output_type": "stream",
     "text": [
      "/Users/paolobonicco/Projects/ml-uniTo-21-22/venvml/lib/python3.9/site-packages/sklearn/utils/deprecation.py:87: FutureWarning: Function plot_roc_curve is deprecated; Function :func:`plot_roc_curve` is deprecated in 1.0 and will be removed in 1.2. Use one of the class methods: :meth:`sklearn.metrics.RocCurveDisplay.from_predictions` or :meth:`sklearn.metrics.RocCurveDisplay.from_estimator`.\n",
      "  warnings.warn(msg, category=FutureWarning)\n"
     ]
    },
    {
     "data": {
      "text/plain": [
       "<sklearn.metrics._plot.roc_curve.RocCurveDisplay at 0x17f322fa0>"
      ]
     },
     "execution_count": 52,
     "metadata": {},
     "output_type": "execute_result"
    },
    {
     "data": {
      "image/png": "[encoded data removed]",
      "text/plain": [
       "<Figure size 640x480 with 1 Axes>"
      ]
     },
     "metadata": {},
     "output_type": "display_data"
    }
   ],
   "source": [
    "plot_roc_curve(bernul_model,X_test_normalize,y_test)"
   ]
  },
  {
   "cell_type": "code",
   "execution_count": null,
   "metadata": {},
   "outputs": [
    {
     "data": {
      "image/png": "[encoded data removed]",
      "text/plain": [
       "<Figure size 640x480 with 1 Axes>"
      ]
     },
     "metadata": {},
     "output_type": "display_data"
    }
   ],
   "source": [
    "# plot_roc_curve(bernul_model,X_test_normalize,y_test)\n",
    "fpr, tpr, thresholds = metrics.roc_curve(bernul_y_pred, y_test)\n",
    "roc_auc = metrics.auc(fpr, tpr)\n",
    "display = metrics.RocCurveDisplay(fpr=fpr, tpr=tpr, roc_auc=roc_auc,\n",
    "                                    estimator_name='example estimator')\n",
    "display.plot()\n",
    "plt.show()"
   ]
  },
  {
   "attachments": {},
   "cell_type": "markdown",
   "metadata": {},
   "source": [
    "##### Lighter method"
   ]
  },
  {
   "cell_type": "code",
   "execution_count": null,
   "metadata": {},
   "outputs": [
    {
     "data": {
      "image/png": "[encoded data removed]",
      "text/plain": [
       "<Figure size 640x480 with 1 Axes>"
      ]
     },
     "metadata": {},
     "output_type": "display_data"
    }
   ],
   "source": [
    "RocCurveDisplay.from_predictions(y_test, bernul_y_pred)\n",
    "plt.show()"
   ]
  },
  {
   "attachments": {},
   "cell_type": "markdown",
   "metadata": {},
   "source": [
    "#### Plot multivariate vector"
   ]
  },
  {
   "attachments": {},
   "cell_type": "markdown",
   "metadata": {},
   "source": [
    "X_train_normalize contiene l'array con i valori normalizzati, in cui troviamo 1 quando la parola è presente nel tweet, 0 altrimenti.\n",
    "\n",
    "`Alhpas` contiene i la somma di tutte le parole uguali in tutti i tweet, normalizzati sul totale delle parole"
   ]
  },
  {
   "attachments": {},
   "cell_type": "markdown",
   "metadata": {},
   "source": [
    "Esempio di come funziona alphas"
   ]
  },
  {
   "cell_type": "code",
   "execution_count": null,
   "metadata": {},
   "outputs": [
    {
     "data": {
      "text/plain": [
       "array([2, 7])"
      ]
     },
     "execution_count": 33,
     "metadata": {},
     "output_type": "execute_result"
    }
   ],
   "source": [
    "a = np.array([[1,2,3,4,5],[6,7,8,9,10]])\n",
    "a[:,1]"
   ]
  },
  {
   "cell_type": "code",
   "execution_count": null,
   "metadata": {},
   "outputs": [
    {
     "data": {
      "text/plain": [
       "[<matplotlib.lines.Line2D at 0x17f2a9880>]"
      ]
     },
     "execution_count": 34,
     "metadata": {},
     "output_type": "execute_result"
    },
    {
     "data": {
      "image/png": "[encoded data removed]",
      "text/plain": [
       "<Figure size 640x480 with 1 Axes>"
      ]
     },
     "metadata": {},
     "output_type": "display_data"
    }
   ],
   "source": [
    "alphas = np.zeros(len(X_train_normalize[0])) # features\n",
    "num_document = len(X_train_normalize) # docs\n",
    "\n",
    "for i in range(0, len(X_train_normalize[0])):    \n",
    "    alphas[i] = np.sum(X_train_normalize[:,i]) / num_document\n",
    "    \n",
    "plt.plot(alphas)"
   ]
  },
  {
   "attachments": {},
   "cell_type": "markdown",
   "metadata": {},
   "source": [
    "### Multinomial Bernoulli"
   ]
  },
  {
   "attachments": {},
   "cell_type": "markdown",
   "metadata": {},
   "source": [
    "#### Model"
   ]
  },
  {
   "cell_type": "code",
   "execution_count": 50,
   "metadata": {
    "id": "c44Vk519Myoq"
   },
   "outputs": [],
   "source": [
    "multin_model = MultinomialNB().fit(X = X_train, y = y_train)\n",
    "multin_y_pred = multin_model.predict(X_test)"
   ]
  },
  {
   "attachments": {},
   "cell_type": "markdown",
   "metadata": {},
   "source": [
    "#### Accuracy"
   ]
  },
  {
   "cell_type": "code",
   "execution_count": 51,
   "metadata": {},
   "outputs": [
    {
     "name": "stdout",
     "output_type": "stream",
     "text": [
      "0.950792326939116\n"
     ]
    }
   ],
   "source": [
    "print(accuracy_score(y_test,multin_y_pred))"
   ]
  },
  {
   "attachments": {},
   "cell_type": "markdown",
   "metadata": {},
   "source": [
    "#### Roc Curve"
   ]
  },
  {
   "cell_type": "code",
   "execution_count": 49,
   "metadata": {},
   "outputs": [
    {
     "name": "stderr",
     "output_type": "stream",
     "text": [
      "/Users/paolobonicco/Projects/ml-uniTo-21-22/venvml/lib/python3.9/site-packages/sklearn/utils/deprecation.py:87: FutureWarning: Function plot_roc_curve is deprecated; Function :func:`plot_roc_curve` is deprecated in 1.0 and will be removed in 1.2. Use one of the class methods: :meth:`sklearn.metrics.RocCurveDisplay.from_predictions` or :meth:`sklearn.metrics.RocCurveDisplay.from_estimator`.\n",
      "  warnings.warn(msg, category=FutureWarning)\n"
     ]
    },
    {
     "data": {
      "text/plain": [
       "<sklearn.metrics._plot.roc_curve.RocCurveDisplay at 0x343446d30>"
      ]
     },
     "execution_count": 49,
     "metadata": {},
     "output_type": "execute_result"
    },
    {
     "data": {
      "image/png": "[encoded data removed]",
      "text/plain": [
       "<Figure size 640x480 with 1 Axes>"
      ]
     },
     "metadata": {},
     "output_type": "display_data"
    }
   ],
   "source": [
    "plot_roc_curve(multin_model,X_test,y_test)"
   ]
  },
  {
   "attachments": {},
   "cell_type": "markdown",
   "metadata": {},
   "source": [
    "## 2. Facolativo"
   ]
  },
  {
   "attachments": {},
   "cell_type": "markdown",
   "metadata": {},
   "source": [
    "Run a  statistical test on the results of the 10 folds of a 10-fold cross-validation, in order to determine if the two classification models (Multivariate Bernoulli and Multinomial Bernoulli) present differences which are statistically significant at the significance level `alpha = 0.05`."
   ]
  },
  {
   "cell_type": "code",
   "execution_count": 53,
   "metadata": {},
   "outputs": [],
   "source": [
    "from sklearn.model_selection import cross_val_score\n",
    "\n",
    "n_fold = 10"
   ]
  },
  {
   "attachments": {},
   "cell_type": "markdown",
   "metadata": {},
   "source": [
    "### Bernulli mutivariate"
   ]
  },
  {
   "cell_type": "code",
   "execution_count": 54,
   "metadata": {},
   "outputs": [
    {
     "name": "stdout",
     "output_type": "stream",
     "text": [
      "Bernulli multivariate:  [0.95663053 0.96577629 0.94991653 0.94991653 0.94824708 0.9524207\n",
      " 0.95075125 0.95492487 0.9624374  0.93656093]\n"
     ]
    }
   ],
   "source": [
    "score_bernulli_multivariate = cross_val_score(BernoulliNB(), twitter_data, twitter_target, cv = n_fold)\n",
    "print(\"Bernulli multivariate: \", score_bernulli_multivariate)"
   ]
  },
  {
   "attachments": {},
   "cell_type": "markdown",
   "metadata": {},
   "source": [
    "Mean on 10 folds"
   ]
  },
  {
   "cell_type": "code",
   "execution_count": 55,
   "metadata": {},
   "outputs": [
    {
     "name": "stdout",
     "output_type": "stream",
     "text": [
      "0.9527582111414491\n"
     ]
    }
   ],
   "source": [
    "print(score_bernulli_multivariate.mean())"
   ]
  },
  {
   "attachments": {},
   "cell_type": "markdown",
   "metadata": {},
   "source": [
    "### Bernulli multinomial"
   ]
  },
  {
   "cell_type": "code",
   "execution_count": 56,
   "metadata": {},
   "outputs": [
    {
     "name": "stdout",
     "output_type": "stream",
     "text": [
      "Bernulli multinomial:  [0.95412844 0.96494157 0.94991653 0.94824708 0.94407346 0.94741235\n",
      " 0.9490818  0.94991653 0.96160267 0.93739566]\n"
     ]
    }
   ],
   "source": [
    "score_bernulli_multinomial = cross_val_score(MultinomialNB(), twitter_data, twitter_target, cv = n_fold)\n",
    "print(\"Bernulli multinomial: \", score_bernulli_multinomial)"
   ]
  },
  {
   "attachments": {},
   "cell_type": "markdown",
   "metadata": {},
   "source": [
    "Mean on 10 folds"
   ]
  },
  {
   "cell_type": "code",
   "execution_count": 58,
   "metadata": {},
   "outputs": [
    {
     "name": "stdout",
     "output_type": "stream",
     "text": [
      "0.9506716086443767\n"
     ]
    }
   ],
   "source": [
    "print(score_bernulli_multinomial.mean())"
   ]
  },
  {
   "attachments": {},
   "cell_type": "markdown",
   "metadata": {},
   "source": [
    "### Confrontiamo i risultati ottenuti"
   ]
  },
  {
   "attachments": {},
   "cell_type": "markdown",
   "metadata": {},
   "source": [
    "Il metodo stats.ttest_1samp di scipy è utilizzato per calcolare il test T di una campione unico, che viene utilizzato per determinare se la media di un campione è significativamente diversa da un valore noto di riferimento. Il metodo accetta due argomenti principali: il campione (una serie di dati) e il valore di riferimento. Il metodo restituisce una tupla contenente il valore del test statistico T e il valore del p-value. Il valore del p-value indica la probabilità che i risultati del campione siano stati ottenuti per caso, se il valore p è inferiore a un certo livello di significatività (ad esempio 0,05), si può concludere che la media del campione è significativamente diversa dal valore di riferimento."
   ]
  },
  {
   "cell_type": "code",
   "execution_count": 59,
   "metadata": {},
   "outputs": [
    {
     "name": "stdout",
     "output_type": "stream",
     "text": [
      "3.2123990690558073 0.010617994606921194\n",
      "non accetto l'ipotesi: i due criteri non sono simili\n"
     ]
    }
   ],
   "source": [
    "from scipy import stats\n",
    "\n",
    "alpha = 0.05\n",
    "mu = 0 # ipotesi nulla\n",
    "\n",
    "accuracies_diff = score_bernulli_multivariate - score_bernulli_multinomial\n",
    "\n",
    "scipy_t, scipy_pval = stats.ttest_1samp(accuracies_diff, mu)\n",
    "print(scipy_t, scipy_pval)\n",
    "\n",
    "if(scipy_pval > alpha):\n",
    "    print(\"accetto l'ipotesi: i due criteri sono simili\")\n",
    "else:\n",
    "    print(\"non accetto l'ipotesi: i due criteri non sono simili\")\n",
    "    "
   ]
  }
 ],
 "metadata": {
  "anaconda-cloud": {},
  "colab": {
   "name": "classification_twitter_emotions_loading_data.ipynb",
   "provenance": []
  },
  "kernelspec": {
   "display_name": "venvml",
   "language": "python",
   "name": "python3"
  },
  "language_info": {
   "codemirror_mode": {
    "name": "ipython",
    "version": 3
   },
   "file_extension": ".py",
   "mimetype": "text/x-python",
   "name": "python",
   "nbconvert_exporter": "python",
   "pygments_lexer": "ipython3",
   "version": "3.9.15"
  },
  "vscode": {
   "interpreter": {
    "hash": "0deb4c735064d4b30eb0c605176a413c4a9e484dcb1599c34b8b5b3830bfb796"
   }
  }
 },
 "nbformat": 4,
 "nbformat_minor": 1
}
