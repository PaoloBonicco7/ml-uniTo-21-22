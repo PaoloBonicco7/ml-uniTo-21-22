{
 "cells": [
  {
   "attachments": {},
   "cell_type": "markdown",
   "metadata": {
    "id": "7vWhC1-mMyop"
   },
   "source": [
    "# Classifiers comparison on texts with naive Bayes assumption"
   ]
  },
  {
   "attachments": {},
   "cell_type": "markdown",
   "metadata": {},
   "source": [
    "In this session of laboratory we compare two models for categorical data probabilistic modeling: \n",
    "1. multivariate Bernoulli \n",
    "2. multinomial on a dataset \n",
    "\n",
    "We adopt a dataset on Twitter messages labelled with emotions (Joy vs Sadness).\n",
    "\n",
    "The following program shows the loading of the data from a file."
   ]
  },
  {
   "cell_type": "markdown",
   "metadata": {
    "id": "i70pgsCOMyop"
   },
   "source": [
    "Data are loaded into a matrix X adopting a sparse matrix representation, in order to save space and time.\n",
    "Sparse matrix representation (in the csr format) represents in three \"parallel\" arrays the value of the matrix cells that are different from zero and the indices of those matrix cells.\n",
    "The arrays are called: \n",
    "- data\n",
    "- row\n",
    "- col\n",
    "\n",
    "- data[i] stores the value of the matrix cell #i whose indexes are contained in row[i] and col[i] \n",
    "- row[i] stores the index of the row in the matrix of the cell #i, \n",
    "- col[i] stores the index of the column of the cell #i.\n"
   ]
  },
  {
   "cell_type": "markdown",
   "metadata": {
    "id": "Sktoeaw5Myop"
   },
   "source": [
    "The data file is in csv format.\n",
    "Any Twitter message has been preprocessed by a Natural Language pipeline which eliminated stop words and substituted the interesting document elements with an integer identifier.  \n",
    "The interesting document elements might be words, emoji or emoticons. The elements could be repeated in the same document and are uniquely identified in the documents by the same integer number (named \"element_id\" in the program). This \"element_id\" number will be used as the index of the column of the data matrix, for the purposes of storage of data.\n",
    "\n",
    "Each row of the CSV file reports the content of a document (a Twitter message).It is formed as a list of integer number pairs, followed by a string which is the label of the document (\"Joy\" or \"Sadness\").\n",
    "The first number of the pair is the identifier of a document element (the \"element_id\"); \n",
    "the second number of the pair is the count (frequency) of that element in that document.\n",
    "\n",
    "The dataset has:\n",
    "\n",
    "tot_n_docs (or rows in the file) =n_rows=11981\n",
    "\n",
    "n_features (total number of distinct words in the corpus)=11288\n",
    "\n"
   ]
  },
  {
   "cell_type": "markdown",
   "metadata": {
    "collapsed": true,
    "id": "Phlf-MPAMyop"
   },
   "source": [
    "The following program reads the data file and loads in a sparse way the matrix using the scipy.sparse library"
   ]
  },
  {
   "cell_type": "code",
   "execution_count": 3,
   "metadata": {
    "colab": {
     "base_uri": "https://localhost:8080/"
    },
    "id": "rMyi3U-ZMyop",
    "outputId": "39724efe-040d-470e-dd16-6ccf319e797a"
   },
   "outputs": [
    {
     "name": "stdout",
     "output_type": "stream",
     "text": [
      "final n_row=[0 0 0 ... 0 0 0]\n",
      "resulting matrix:\n",
      "[[1 1 1 ... 0 0 0]\n",
      " [0 0 0 ... 0 0 0]\n",
      " [0 0 0 ... 0 0 0]\n",
      " ...\n",
      " [0 0 0 ... 0 0 0]\n",
      " [0 0 0 ... 0 0 0]\n",
      " [0 0 0 ... 0 0 0]]\n",
      "['Joy', 'Joy', 'Joy', 'Joy', 'Joy'] ['Sadness', 'Sadness', 'Sadness', 'Sadness', 'Sadness']\n",
      "[0, 0, 0, 0, 0] [1, 1, 1, 1, 1]\n",
      "[0 0 0 0 1 1 1 1 1 1]\n",
      "[1 1 1 ... 0 0 0]\n"
     ]
    }
   ],
   "source": [
    "from time import sleep\n",
    "from numpy import ndarray, zeros\n",
    "import numpy as np\n",
    "import scipy\n",
    "from scipy.sparse import csr_matrix\n",
    "\n",
    "class_labels = [\"Joy\",\"Sadness\"]\n",
    "n_features=11288 # number of columns in the matrix = number of features (distinct elements in the documents)\n",
    "n_rows=11981 # number rows of the matrix\n",
    "n_elements=71474 # number of the existing values in the matrix (not empty, to be loaded in the matrix in a sparse way)\n",
    "\n",
    "#path_training=\"/Users/meo/Documents/Didattica/Laboratorio-15-16-Jupyter/\"\n",
    "path_training=\"./7_meo_DatasetforExercize4withTwittertexts/\"\n",
    "file_name=\"joy_sadness6000.txt\"\n",
    "\n",
    "# declare the row and col arrays with the indexes of the matrix cells (non empty) to be loaded from file\n",
    "# they are needed because the matrix is sparse and we load in the matrix only the elements which are present\n",
    "row=np.empty(n_elements, dtype=int)\n",
    "col=np.empty(n_elements, dtype=int)\n",
    "data=np.empty(n_elements, dtype=int)\n",
    "\n",
    "row_n=0 # number of current row to be read and managed\n",
    "cur_el=0 # position in the three arrays: row, col and data\n",
    "twitter_labels=[] # list of class labels (target array) of the documents (twitter) that will be read from the input file\n",
    "twitter_target=[] # list of 0/1 for class labels\n",
    "with open(path_training + file_name, \"r\") as fi:\n",
    "    for line in fi:\n",
    "        el_list=line.split(',')  # list of integers read from a row of the file\n",
    "        l=len(el_list)\n",
    "        last_el=el_list[l-1] # I grab the last element in the list which is the class label\n",
    "        class_name=last_el.strip() # eliminate the '\\n'\n",
    "        twitter_labels.append(class_name)\n",
    "        # twitter_labels contains the labels (Joy/Sadness); twitter_target contains 0/1 for the respective labels\n",
    "        if (class_name==class_labels[0]):\n",
    "           twitter_target.append(0) #JOY\n",
    "        else:\n",
    "           twitter_target.append(1) #SADNESS\n",
    "        i=0 # I start reading all the doc elements from the beginning of the list\n",
    "        while(i<(l-1)):\n",
    "            element_id=int(el_list[i]) # identifier of the element in the document equivalent to the column index\n",
    "            element_id=element_id-1 # the index starts from 0 (the read id starts from 1)\n",
    "            i=i+1\n",
    "            value_cell=int(el_list[i]) # make access to the following value in the file which is the count of the element in the documento \n",
    "            i=i+1\n",
    "            row[cur_el]=row_n # load the data in the three arrays: the first two are the row and col indexes; the last one is the matrix cell value\n",
    "            col[cur_el]=element_id\n",
    "            data[cur_el]=value_cell\n",
    "            cur_el=cur_el+1\n",
    "        row_n=row_n+1\n",
    "fi.close\n",
    "print(\"final n_row=\"+str(row))\n",
    "# loads the matrix by means of the indexes and the values in the three arrays just filled\n",
    "twitter_data=csr_matrix((data, (row, col)), shape=(n_rows, n_features)).toarray()\n",
    "print(\"resulting matrix:\")\n",
    "print(twitter_data[0:10])\n",
    "print(twitter_labels[0:5],twitter_labels[-5:])\n",
    "print(twitter_target[0:5],twitter_target[-5:])\n",
    "print(row[0:10])\n",
    "print(twitter_data[0])\n",
    "\n",
    "# twitter_data = "
   ]
  },
  {
   "cell_type": "code",
   "execution_count": 4,
   "metadata": {},
   "outputs": [
    {
     "name": "stdout",
     "output_type": "stream",
     "text": [
      "numero di twitter: 11981\n",
      "numero di feature o parole del dizionario: 11288\n",
      "[0 0 0 ... 0 0 0]\n",
      "numero parole nel twitter 19: 9\n",
      "[(37, 5), (100, 1), (101, 1), (102, 1), (103, 1)]\n",
      "Id delle parole che contiene il twitter 19: [37, 100, 101, 102, 103]\n"
     ]
    }
   ],
   "source": [
    "'''\n",
    "Primi 9 twitter del file:\n",
    "\n",
    "1,1,2,1,3,1,4,1,Joy\n",
    "5,1,6,1,7,1,8,1,9,1,10,1,11,1,12,1,Joy\n",
    "13,1,14,1,15,1,16,1,17,1,18,1,19,1,20,1,21,1,22,1,Joy\n",
    "20,1,23,1,24,1,25,1,26,1,27,1,28,1,29,1,30,1,31,1,32,1,33,1,Joy\n",
    "23,1,34,1,35,1,36,1,37,2,Joy\n",
    "31,1,38,5,39,1,40,1,41,1,42,1,43,1,44,1,45,1,Joy\n",
    "23,1,46,1,47,1,Joy\n",
    "23,1,48,1,49,1,Joy\n",
    "50,1,51,1,52,1,53,1,54,1,55,1,56,1,Joy\n",
    ".\n",
    ".\n",
    ".\n",
    "19°: 38,5,101,1,102,1,103,1,104,1,Joy\n",
    "\n",
    "'''\n",
    "\n",
    "def twitter_info(studied_twitter,twitter_data = twitter_data):\n",
    "    print(\"numero di twitter:\",len(twitter_data))\n",
    "    print(\"numero di feature o parole del dizionario:\",len(twitter_data[studied_twitter]))\n",
    "\n",
    "    print(twitter_data[studied_twitter])\n",
    "    print(\"numero parole nel twitter {}: {}\".format(studied_twitter,np.sum(twitter_data[studied_twitter])))\n",
    "    x = [(i,x) for i,x in enumerate(twitter_data[studied_twitter]) if x >= 1]\n",
    "    print(x)\n",
    "    x = [i for i,x in enumerate(twitter_data[studied_twitter]) if x >= 1]\n",
    "    print(\"Id delle parole che contiene il twitter {}: {}\".format(studied_twitter,x))\n",
    "\n",
    "studied_twitter = 19\n",
    "twitter_info(studied_twitter)"
   ]
  },
  {
   "cell_type": "markdown",
   "metadata": {
    "collapsed": true,
    "id": "v4FHZONyMyoq"
   },
   "source": [
    "Write a program in the following cell that splits the data matrix in training and test set (by random selection) and predicts the class (Joy/Sadness) of the messages on the basis of the words. \n",
    "Consider the two possible models:\n",
    "multivariate Bernoulli and multinomial Bernoulli.\n",
    "Find the accuracy of the models and test is the observed differences are significant."
   ]
  },
  {
   "cell_type": "code",
   "execution_count": 16,
   "metadata": {},
   "outputs": [],
   "source": [
    "from sklearn.naive_bayes import BernoulliNB,MultinomialNB\n",
    "from sklearn.model_selection import train_test_split\n",
    "from sklearn.metrics import accuracy_score, plot_roc_curve\n",
    "\n",
    "import matplotlib.pyplot as plt\n",
    "\n",
    "#Split the data\n",
    "X_train, X_test, y_train, y_test = train_test_split(twitter_data,twitter_target,test_size = 0.10, random_state = 1)\n"
   ]
  },
  {
   "cell_type": "code",
   "execution_count": 6,
   "metadata": {},
   "outputs": [
    {
     "name": "stdout",
     "output_type": "stream",
     "text": [
      "0.9566305254378649\n"
     ]
    },
    {
     "data": {
      "text/plain": [
       "<sklearn.metrics._plot.roc_curve.RocCurveDisplay at 0x2973ab86608>"
      ]
     },
     "execution_count": 6,
     "metadata": {},
     "output_type": "execute_result"
    },
    {
     "data": {
      "image/png": "[encoded data removed]",
      "text/plain": [
       "<Figure size 432x288 with 1 Axes>"
      ]
     },
     "metadata": {
      "needs_background": "light"
     },
     "output_type": "display_data"
    }
   ],
   "source": [
    "# multivariate Bernulli\n",
    "\n",
    "# Normalize between 0-1 (value >= 1 ? 1 : 0)\n",
    "X_train_normalize = (X_train >= 1) * 1\n",
    "X_test_normalize = (X_test >= 1) * 1\n",
    "\n",
    "bernul_model = BernoulliNB().fit(X = X_train_normalize, y = y_train)\n",
    "bernul_y_pred = bernul_model.predict(X_test_normalize)\n",
    "\n",
    "\n",
    "print(accuracy_score(y_test,bernul_y_pred))\n",
    "plot_roc_curve(bernul_model,X_test_normalize,y_test)\n"
   ]
  },
  {
   "cell_type": "code",
   "execution_count": 21,
   "metadata": {},
   "outputs": [
    {
     "data": {
      "text/plain": [
       "[<matplotlib.lines.Line2D at 0x297066a2748>]"
      ]
     },
     "execution_count": 21,
     "metadata": {},
     "output_type": "execute_result"
    },
    {
     "data": {
      "image/png": "[encoded data removed]",
      "text/plain": [
       "<Figure size 432x288 with 1 Axes>"
      ]
     },
     "metadata": {
      "needs_background": "light"
     },
     "output_type": "display_data"
    }
   ],
   "source": [
    "# Plot multivariate vector\n",
    "alphas = np.zeros(len(X_train_normalize[0])) #features\n",
    "num_document = len(X_train_normalize)   #docs\n",
    "for i in range(0,len(X_train_normalize[0])):    \n",
    "    alphas[i] = np.sum(X_train_normalize[:,i])/num_document\n",
    "    \n",
    "plt.plot(alphas)\n"
   ]
  },
  {
   "cell_type": "code",
   "execution_count": 92,
   "metadata": {
    "id": "c44Vk519Myoq"
   },
   "outputs": [
    {
     "name": "stdout",
     "output_type": "stream",
     "text": [
      "0.8323603002502085\n"
     ]
    },
    {
     "data": {
      "text/plain": [
       "<sklearn.metrics._plot.roc_curve.RocCurveDisplay at 0x141800ce1c8>"
      ]
     },
     "execution_count": 92,
     "metadata": {},
     "output_type": "execute_result"
    },
    {
     "data": {
      "image/png": "[encoded data removed]",
      "text/plain": [
       "<Figure size 432x288 with 1 Axes>"
      ]
     },
     "metadata": {
      "needs_background": "light"
     },
     "output_type": "display_data"
    }
   ],
   "source": [
    "# Multinomial Bernoulli\n",
    "\n",
    "multin_model = MultinomialNB().fit(X = X_train, y = y_train)\n",
    "multin_y_pred = multin_model.predict(X_test)\n",
    "\n",
    "\n",
    "print(accuracy_score(y_test,multin_y_pred))\n",
    "plot_roc_curve(multin_model,X_test,y_test)"
   ]
  },
  {
   "cell_type": "markdown",
   "metadata": {},
   "source": [
    "### 2. Run a  statistical test on the results of the 10 folds of a 10-fold cross-validation, in order to determine if the two classification models (Multivariate Bernoulli and Multinomial Bernoulli) present differences which are statistically significant at the significance level alpha=0.05  "
   ]
  },
  {
   "cell_type": "code",
   "execution_count": 60,
   "metadata": {},
   "outputs": [
    {
     "name": "stdout",
     "output_type": "stream",
     "text": [
      "Bernulli multivariate:  [0.95246038 0.96494157 0.94991653 0.9490818  0.94741235 0.9524207\n",
      " 0.94991653 0.95492487 0.96160267 0.93656093]\n"
     ]
    }
   ],
   "source": [
    "from sklearn.model_selection import cross_val_score\n",
    "\n",
    "n_fold = 10\n",
    "\n",
    "#Bernulli multivariate\n",
    "score_bernulli_multivariate = cross_val_score(BernoulliNB(),twitter_data,twitter_target,cv = n_fold)\n",
    "print(\"Bernulli multivariate: \",score_bernulli_multivariate)\n"
   ]
  },
  {
   "cell_type": "code",
   "execution_count": 61,
   "metadata": {},
   "outputs": [
    {
     "name": "stdout",
     "output_type": "stream",
     "text": [
      "Bernulli multinomial:  [0.87572977 0.85141903 0.84891486 0.85308848 0.80300501 0.82721202\n",
      " 0.83055092 0.85225376 0.84056761 0.83305509]\n"
     ]
    }
   ],
   "source": [
    "#Bernulli multinomial\n",
    "score_bernulli_multinomial = cross_val_score(MultinomialNB(),twitter_data,twitter_target,cv = n_fold)\n",
    "print(\"Bernulli multinomial: \",score_bernulli_multinomial)"
   ]
  },
  {
   "cell_type": "code",
   "execution_count": 95,
   "metadata": {},
   "outputs": [
    {
     "name": "stdout",
     "output_type": "stream",
     "text": [
      "18.75372561181558 1.6002300606073643e-08\n",
      "non accetto l'ipotesi\n"
     ]
    }
   ],
   "source": [
    "from scipy import stats\n",
    "\n",
    "alpha = 0.05\n",
    "mu = 0 #ipotesi nulla\n",
    "\n",
    "accuracies_diff = score_bernulli_multivariate - score_bernulli_multinomial\n",
    "\n",
    "scipy_t, scipy_pval = stats.ttest_1samp(accuracies_diff, mu)\n",
    "print(scipy_t, scipy_pval)\n",
    "if(scipy_pval > alpha):\n",
    "    print(\"accetto l'ipotesi: i due criteri sono simili\")\n",
    "else:\n",
    "    print(\"non accetto l'ipotesi: i due criteri non sono simili\")\n",
    "    "
   ]
  }
 ],
 "metadata": {
  "anaconda-cloud": {},
  "colab": {
   "name": "classification_twitter_emotions_loading_data.ipynb",
   "provenance": []
  },
  "kernelspec": {
   "display_name": "venvml",
   "language": "python",
   "name": "python3"
  },
  "language_info": {
   "codemirror_mode": {
    "name": "ipython",
    "version": 3
   },
   "file_extension": ".py",
   "mimetype": "text/x-python",
   "name": "python",
   "nbconvert_exporter": "python",
   "pygments_lexer": "ipython3",
   "version": "3.9.15 (main, Oct 11 2022, 21:39:54) \n[Clang 14.0.0 (clang-1400.0.29.102)]"
  },
  "vscode": {
   "interpreter": {
    "hash": "0deb4c735064d4b30eb0c605176a413c4a9e484dcb1599c34b8b5b3830bfb796"
   }
  }
 },
 "nbformat": 4,
 "nbformat_minor": 1
}
